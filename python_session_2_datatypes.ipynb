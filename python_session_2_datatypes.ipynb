{
 "cells": [
  {
   "cell_type": "markdown",
   "id": "ccec8abd-fad0-4a41-bf6b-a0c8954046c4",
   "metadata": {},
   "source": [
    "**Data types**\n",
    "- in python we have four types.\n",
    "    - integers\n",
    "    - float\n",
    "    - boolean\n",
    "    - string"
   ]
  },
  {
   "cell_type": "markdown",
   "id": "9a9244b9-3729-4488-8fa8-c41ea5d5e2c3",
   "metadata": {},
   "source": [
    "**integers**\n",
    "- in python no need to mention datatypes like c\n",
    "- it will take automatically"
   ]
  },
  {
   "cell_type": "code",
   "execution_count": 9,
   "id": "c3deb577-7cb9-4edb-adfd-07b66b8c586a",
   "metadata": {},
   "outputs": [],
   "source": [
    "number = 289\n",
    "# in order to check type of varianle \n",
    "# inbuilt functions "
   ]
  },
  {
   "cell_type": "code",
   "execution_count": 11,
   "id": "2311e2c3-6b3e-4f9d-9af7-008b4d590941",
   "metadata": {},
   "outputs": [
    {
     "data": {
      "text/plain": [
       "int"
      ]
     },
     "execution_count": 11,
     "metadata": {},
     "output_type": "execute_result"
    }
   ],
   "source": [
    "type(number)"
   ]
  },
  {
   "cell_type": "markdown",
   "id": "1ee2cf87-bcb4-4707-859c-411599ba58d7",
   "metadata": {},
   "source": [
    "- in maths we have different types of representataives variables\n",
    "\n",
    " **the following numbers systems are**\n",
    "\n",
    "    - Binary\n",
    "    - octa\n",
    "    - decimal\n",
    "    - hexa"
   ]
  },
  {
   "cell_type": "markdown",
   "id": "4389667c-0db4-4bec-b386-09e86cbb874d",
   "metadata": {},
   "source": [
    "**binary**\n",
    "- binary has bi which two numbers\n",
    "- we have total 0 to 9 digit representation number\n",
    "- from there we will take only first two digits i.e., 0 and 1\n",
    "- Example : 0b101 , 0B0001\n",
    "- wrong representation ; 0b001, 1b001"
   ]
  },
  {
   "cell_type": "code",
   "execution_count": 25,
   "id": "2f44e261-e025-4aba-a057-ed462b3975b9",
   "metadata": {},
   "outputs": [
    {
     "data": {
      "text/plain": [
       "7"
      ]
     },
     "execution_count": 25,
     "metadata": {},
     "output_type": "execute_result"
    }
   ],
   "source": [
    "num=0b00111\n",
    "num"
   ]
  },
  {
   "cell_type": "code",
   "execution_count": 27,
   "id": "2722aaf3-95d8-446a-aaeb-1960ca278015",
   "metadata": {},
   "outputs": [
    {
     "data": {
      "text/plain": [
       "7"
      ]
     },
     "execution_count": 27,
     "metadata": {},
     "output_type": "execute_result"
    }
   ],
   "source": [
    "0b111"
   ]
  },
  {
   "cell_type": "code",
   "execution_count": 29,
   "id": "0e95b26d-5795-49cc-b4ef-bb730b80e2f1",
   "metadata": {},
   "outputs": [
    {
     "data": {
      "text/plain": [
       "21"
      ]
     },
     "execution_count": 29,
     "metadata": {},
     "output_type": "execute_result"
    }
   ],
   "source": [
    "0b10101"
   ]
  },
  {
   "cell_type": "code",
   "execution_count": 31,
   "id": "23fd29f1-2dd1-496a-9ca3-8e7b41cf3d19",
   "metadata": {},
   "outputs": [
    {
     "data": {
      "text/plain": [
       "1"
      ]
     },
     "execution_count": 31,
     "metadata": {},
     "output_type": "execute_result"
    }
   ],
   "source": [
    "0b1"
   ]
  },
  {
   "cell_type": "code",
   "execution_count": 33,
   "id": "3b024093-5f0d-4d47-96b9-069e5743e042",
   "metadata": {},
   "outputs": [
    {
     "data": {
      "text/plain": [
       "2"
      ]
     },
     "execution_count": 33,
     "metadata": {},
     "output_type": "execute_result"
    }
   ],
   "source": [
    "0b10"
   ]
  },
  {
   "cell_type": "raw",
   "id": "3308baf1-b58b-402b-b853-8d2a3ac08687",
   "metadata": {},
   "source": [
    "# Digital logic design\n",
    "4   2   1     Number\n",
    "0   0   0        0           #0b000 = 0\n",
    "0   0   1        1           #0b001 = 1\n",
    "0   1   0        2           #0b010 = 2\n",
    "0   1   1        3           #0b011 = 3\n",
    "1   0   0        4           #0b100 = 4\n",
    "1   0   1        5           #0b101 = 5\n",
    "1   1   0        6           #0b110 = 6\n",
    "1   1   1        7           #0b111 = 7\n"
   ]
  },
  {
   "cell_type": "code",
   "execution_count": 38,
   "id": "06e451bc-8c67-4ab1-994d-04f85603c902",
   "metadata": {},
   "outputs": [
    {
     "data": {
      "text/plain": [
       "0"
      ]
     },
     "execution_count": 38,
     "metadata": {},
     "output_type": "execute_result"
    }
   ],
   "source": [
    "0b000"
   ]
  },
  {
   "cell_type": "markdown",
   "id": "3c6bc478-74dc-4d69-baa5-eac7c770eeb1",
   "metadata": {},
   "source": [
    "**octa**\n",
    "- octa means 8\n",
    "- we have total 0 to 7 digit representation number\n",
    "- from there we will take only first eight digits i.e., 0,1,2,3,4,5,6,7\n",
    "- Example : 0o101 , 0O0001\n",
    "- wrong representation ; 0o479,0o789,1o993,...."
   ]
  },
  {
   "cell_type": "code",
   "execution_count": 47,
   "id": "cc0a3d49-24c2-4e67-b67d-7b6b839be923",
   "metadata": {},
   "outputs": [
    {
     "data": {
      "text/plain": [
       "296"
      ]
     },
     "execution_count": 47,
     "metadata": {},
     "output_type": "execute_result"
    }
   ],
   "source": [
    "0o450"
   ]
  },
  {
   "cell_type": "code",
   "execution_count": 49,
   "id": "cc994d4c-e463-4b57-91d0-9e4d2eddf726",
   "metadata": {},
   "outputs": [
    {
     "ename": "SyntaxError",
     "evalue": "invalid decimal literal (1544964501.py, line 1)",
     "output_type": "error",
     "traceback": [
      "\u001b[1;36m  Cell \u001b[1;32mIn[49], line 1\u001b[1;36m\u001b[0m\n\u001b[1;33m    1o267\u001b[0m\n\u001b[1;37m    ^\u001b[0m\n\u001b[1;31mSyntaxError\u001b[0m\u001b[1;31m:\u001b[0m invalid decimal literal\n"
     ]
    }
   ],
   "source": [
    "1o267"
   ]
  },
  {
   "cell_type": "code",
   "execution_count": 51,
   "id": "a0f2dc47-2174-4ea6-8bc3-305c91881f18",
   "metadata": {},
   "outputs": [
    {
     "data": {
      "text/plain": [
       "183"
      ]
     },
     "execution_count": 51,
     "metadata": {},
     "output_type": "execute_result"
    }
   ],
   "source": [
    "0o267"
   ]
  },
  {
   "cell_type": "code",
   "execution_count": 53,
   "id": "e3243a31-c3ae-4559-ad7d-ff025829f067",
   "metadata": {},
   "outputs": [
    {
     "data": {
      "text/plain": [
       "229"
      ]
     },
     "execution_count": 53,
     "metadata": {},
     "output_type": "execute_result"
    }
   ],
   "source": [
    "0O345"
   ]
  },
  {
   "cell_type": "code",
   "execution_count": 55,
   "id": "0a8cfd86-7120-4111-ba7a-47ce238e510b",
   "metadata": {},
   "outputs": [
    {
     "ename": "SyntaxError",
     "evalue": "invalid digit '9' in octal literal (2752990954.py, line 1)",
     "output_type": "error",
     "traceback": [
      "\u001b[1;36m  Cell \u001b[1;32mIn[55], line 1\u001b[1;36m\u001b[0m\n\u001b[1;33m    0o393\u001b[0m\n\u001b[1;37m       ^\u001b[0m\n\u001b[1;31mSyntaxError\u001b[0m\u001b[1;31m:\u001b[0m invalid digit '9' in octal literal\n"
     ]
    }
   ],
   "source": [
    "0o393"
   ]
  },
  {
   "cell_type": "code",
   "execution_count": 57,
   "id": "ed66ef92-0302-4547-a3bc-e976321910e4",
   "metadata": {},
   "outputs": [
    {
     "data": {
      "text/plain": [
       "83"
      ]
     },
     "execution_count": 57,
     "metadata": {},
     "output_type": "execute_result"
    }
   ],
   "source": [
    "0o123"
   ]
  },
  {
   "cell_type": "markdown",
   "id": "e7be2967-2f09-429c-b3b4-da9b9952c56e",
   "metadata": {},
   "source": [
    "**hexa**\n",
    "- hexa means 16\n",
    "- we have total 0 to 9 digit representation number\n",
    "- after A to F i.e., A-10,B-11,C-12,D-13,E-14,F-15.\n",
    "- example : 0x3992,0Xabc,..\n",
    "- wrong representation: 1x938ja,0x283nwk,.."
   ]
  },
  {
   "cell_type": "code",
   "execution_count": 62,
   "id": "f7a789bb-ec9c-4a9f-be61-9b0018becf68",
   "metadata": {},
   "outputs": [
    {
     "data": {
      "text/plain": [
       "2660525"
      ]
     },
     "execution_count": 62,
     "metadata": {},
     "output_type": "execute_result"
    }
   ],
   "source": [
    "0x2898ad"
   ]
  },
  {
   "cell_type": "markdown",
   "id": "6e767bff-c6f6-46a7-ba17-503a86e6b0a6",
   "metadata": {},
   "source": [
    "# float \n"
   ]
  },
  {
   "cell_type": "code",
   "execution_count": 65,
   "id": "f260162a-4411-450f-ac0e-d3cc973a9529",
   "metadata": {},
   "outputs": [
    {
     "data": {
      "text/plain": [
       "float"
      ]
     },
     "execution_count": 65,
     "metadata": {},
     "output_type": "execute_result"
    }
   ],
   "source": [
    "num=10.5\n",
    "type(num)"
   ]
  },
  {
   "cell_type": "code",
   "execution_count": 67,
   "id": "9eb85bea-77d0-47bc-b213-2c1b60cf983e",
   "metadata": {},
   "outputs": [
    {
     "data": {
      "text/plain": [
       "(int, float)"
      ]
     },
     "execution_count": 67,
     "metadata": {},
     "output_type": "execute_result"
    }
   ],
   "source": [
    "type(10),type(10.5)"
   ]
  },
  {
   "cell_type": "code",
   "execution_count": 69,
   "id": "44cecee7-6026-45db-a213-f3b52f2e8e70",
   "metadata": {},
   "outputs": [
    {
     "data": {
      "text/plain": [
       "100.0"
      ]
     },
     "execution_count": 69,
     "metadata": {},
     "output_type": "execute_result"
    }
   ],
   "source": [
    "10e1 #10 * 10"
   ]
  },
  {
   "cell_type": "code",
   "execution_count": 71,
   "id": "2ddc2c30-c4f3-4d59-8bb5-ce671443951b",
   "metadata": {},
   "outputs": [
    {
     "data": {
      "text/plain": [
       "1000.0"
      ]
     },
     "execution_count": 71,
     "metadata": {},
     "output_type": "execute_result"
    }
   ],
   "source": [
    "10e2 #10*100"
   ]
  },
  {
   "cell_type": "code",
   "execution_count": 73,
   "id": "298a52db-da0e-43e3-82df-269ab6a0392a",
   "metadata": {},
   "outputs": [
    {
     "data": {
      "text/plain": [
       "10000.0"
      ]
     },
     "execution_count": 73,
     "metadata": {},
     "output_type": "execute_result"
    }
   ],
   "source": [
    "10e3   #10*1000"
   ]
  },
  {
   "cell_type": "code",
   "execution_count": 75,
   "id": "868f1810-3a7a-4e7a-bd27-b8df259cbf8e",
   "metadata": {},
   "outputs": [
    {
     "data": {
      "text/plain": [
       "100000.0"
      ]
     },
     "execution_count": 75,
     "metadata": {},
     "output_type": "execute_result"
    }
   ],
   "source": [
    "10e4 #10*10000"
   ]
  },
  {
   "cell_type": "code",
   "execution_count": 77,
   "id": "82bb3f85-2127-4582-a8ae-419c18c0b15b",
   "metadata": {},
   "outputs": [
    {
     "data": {
      "text/plain": [
       "20"
      ]
     },
     "execution_count": 77,
     "metadata": {},
     "output_type": "execute_result"
    }
   ],
   "source": [
    "10\n",
    "20\n",
    "#in jupyter notebook by default last value will print"
   ]
  },
  {
   "cell_type": "code",
   "execution_count": 79,
   "id": "d9025867-3cea-46e0-99bb-c96bfe1b98b5",
   "metadata": {},
   "outputs": [
    {
     "name": "stdout",
     "output_type": "stream",
     "text": [
      "10\n",
      "20\n"
     ]
    }
   ],
   "source": [
    "print(10)\n",
    "print(20)\n",
    "#instead of we use print fumction print()"
   ]
  },
  {
   "cell_type": "code",
   "execution_count": 81,
   "id": "fa86346d-0baf-448f-8e37-c27fe9678e20",
   "metadata": {},
   "outputs": [
    {
     "data": {
      "text/plain": [
       "(10, 20)"
      ]
     },
     "execution_count": 81,
     "metadata": {},
     "output_type": "execute_result"
    }
   ],
   "source": [
    "10,20"
   ]
  },
  {
   "cell_type": "code",
   "execution_count": 83,
   "id": "2e2b041d-6d26-40cf-b4b9-cad34f9c4611",
   "metadata": {},
   "outputs": [
    {
     "data": {
      "text/plain": [
       "100000.0"
      ]
     },
     "execution_count": 83,
     "metadata": {},
     "output_type": "execute_result"
    }
   ],
   "source": [
    "10e1\n",
    "10e2\n",
    "10e3\n",
    "10e4\n"
   ]
  },
  {
   "cell_type": "code",
   "execution_count": 85,
   "id": "ab48e03d-41fd-4be8-bc28-cbdecfe56fe0",
   "metadata": {},
   "outputs": [
    {
     "name": "stdout",
     "output_type": "stream",
     "text": [
      "100.0\n",
      "1000.0\n",
      "10000.0\n",
      "100000.0\n"
     ]
    }
   ],
   "source": [
    "print(10e1)\n",
    "print(10e2)\n",
    "print(10e3)\n",
    "print(10e4)"
   ]
  },
  {
   "cell_type": "code",
   "execution_count": 87,
   "id": "5a575a14-ff3b-4674-b802-a353bc9e4759",
   "metadata": {},
   "outputs": [
    {
     "data": {
      "text/plain": [
       "(100.0, 1000.0, 10000.0, 100000.0)"
      ]
     },
     "execution_count": 87,
     "metadata": {},
     "output_type": "execute_result"
    }
   ],
   "source": [
    "10e1,10e2,10e3,10e4"
   ]
  },
  {
   "cell_type": "code",
   "execution_count": 89,
   "id": "a4bccf8d-a570-40e9-82ad-f2ac78a7db23",
   "metadata": {},
   "outputs": [
    {
     "data": {
      "text/plain": [
       "100.0"
      ]
     },
     "execution_count": 89,
     "metadata": {},
     "output_type": "execute_result"
    }
   ],
   "source": [
    "10e+1 #10*10"
   ]
  },
  {
   "cell_type": "code",
   "execution_count": 91,
   "id": "d0d7283c-2479-44fe-8828-b491589fcd74",
   "metadata": {},
   "outputs": [
    {
     "data": {
      "text/plain": [
       "100000.0"
      ]
     },
     "execution_count": 91,
     "metadata": {},
     "output_type": "execute_result"
    }
   ],
   "source": [
    "10e+2\n",
    "10e+3\n",
    "10e+4"
   ]
  },
  {
   "cell_type": "code",
   "execution_count": 93,
   "id": "5c01c3af-77a7-4792-bf78-b2d8b318d7f4",
   "metadata": {},
   "outputs": [
    {
     "data": {
      "text/plain": [
       "100.0"
      ]
     },
     "execution_count": 93,
     "metadata": {},
     "output_type": "execute_result"
    }
   ],
   "source": [
    "10E1"
   ]
  },
  {
   "cell_type": "code",
   "execution_count": 95,
   "id": "8b228ac0-518c-4132-96fb-883dfaa81b3e",
   "metadata": {},
   "outputs": [
    {
     "data": {
      "text/plain": [
       "1.0"
      ]
     },
     "execution_count": 95,
     "metadata": {},
     "output_type": "execute_result"
    }
   ],
   "source": [
    "10e-1 #10/10=1"
   ]
  },
  {
   "cell_type": "code",
   "execution_count": 97,
   "id": "b610a5b8-9818-4202-9c1b-3fcf62278364",
   "metadata": {},
   "outputs": [
    {
     "data": {
      "text/plain": [
       "0.1"
      ]
     },
     "execution_count": 97,
     "metadata": {},
     "output_type": "execute_result"
    }
   ],
   "source": [
    "10e-2 #10/100"
   ]
  },
  {
   "cell_type": "code",
   "execution_count": 99,
   "id": "2d3c6424-803a-40d3-ad22-6f927da99f9a",
   "metadata": {},
   "outputs": [
    {
     "data": {
      "text/plain": [
       "0.01"
      ]
     },
     "execution_count": 99,
     "metadata": {},
     "output_type": "execute_result"
    }
   ],
   "source": [
    "10e-3"
   ]
  },
  {
   "cell_type": "code",
   "execution_count": 101,
   "id": "9ae049fe-3c5b-488f-a2c9-59acff0b5596",
   "metadata": {},
   "outputs": [
    {
     "data": {
      "text/plain": [
       "0.001"
      ]
     },
     "execution_count": 101,
     "metadata": {},
     "output_type": "execute_result"
    }
   ],
   "source": [
    "10e-4"
   ]
  },
  {
   "cell_type": "markdown",
   "id": "52f4c730-7869-41e7-a5d3-2476c2b52c86",
   "metadata": {},
   "source": [
    "- in the machine learing we often see the values in expoentational format\n",
    "- in some cases we need to search  for zero values\n",
    "- in ML with python we rarely see extact an answer 0.0\n",
    "- instead of 0.0 it will display 1.236e-15"
   ]
  },
  {
   "cell_type": "code",
   "execution_count": 106,
   "id": "c5a7afc2-7105-482e-a250-ceab14d8874d",
   "metadata": {},
   "outputs": [
    {
     "data": {
      "text/plain": [
       "7.7e-18"
      ]
     },
     "execution_count": 106,
     "metadata": {},
     "output_type": "execute_result"
    }
   ],
   "source": [
    "7.7e-18"
   ]
  },
  {
   "cell_type": "markdown",
   "id": "b41f187c-18a0-49f4-b814-621f9b9534df",
   "metadata": {},
   "source": [
    "# strings"
   ]
  },
  {
   "cell_type": "markdown",
   "id": "02002c5f-8359-4c37-af48-1a741fd5640f",
   "metadata": {},
   "source": [
    "- strings represents english characters generally\n",
    "- strings will represnt with quotes\n",
    "- single quotes\n",
    "- double quotes\n",
    "- triple quotes"
   ]
  },
  {
   "cell_type": "code",
   "execution_count": 110,
   "id": "7125c7c6-5eff-4139-a573-4170f9aa9ce1",
   "metadata": {},
   "outputs": [
    {
     "data": {
      "text/plain": [
       "'python'"
      ]
     },
     "execution_count": 110,
     "metadata": {},
     "output_type": "execute_result"
    }
   ],
   "source": [
    "str1='python'\n",
    "str1"
   ]
  },
  {
   "cell_type": "code",
   "execution_count": 112,
   "id": "aa11aff9-1deb-48c0-8ac1-8f62ff3ab401",
   "metadata": {},
   "outputs": [
    {
     "data": {
      "text/plain": [
       "str"
      ]
     },
     "execution_count": 112,
     "metadata": {},
     "output_type": "execute_result"
    }
   ],
   "source": [
    "type(str1)"
   ]
  },
  {
   "cell_type": "code",
   "execution_count": 120,
   "id": "77b5c00b-07ff-4d4c-82bd-f89f029deccf",
   "metadata": {},
   "outputs": [
    {
     "data": {
      "text/plain": [
       "'python'"
      ]
     },
     "execution_count": 120,
     "metadata": {},
     "output_type": "execute_result"
    }
   ],
   "source": [
    "str2=\"python\"\n",
    "str2"
   ]
  },
  {
   "cell_type": "markdown",
   "id": "59e5a996-ab1a-49ff-ac2a-15365b3e1f96",
   "metadata": {},
   "source": [
    "- we can represent in any way but python will give in single quotes"
   ]
  },
  {
   "cell_type": "code",
   "execution_count": 123,
   "id": "9f8e03b8-b8c9-4424-ac68-cc211bc9fd01",
   "metadata": {},
   "outputs": [
    {
     "name": "stdout",
     "output_type": "stream",
     "text": [
      "python\n"
     ]
    }
   ],
   "source": [
    "print(str1)\n"
   ]
  },
  {
   "cell_type": "markdown",
   "id": "00a1f770-9ce9-4b4b-bd07-bbd309071ef8",
   "metadata": {},
   "source": [
    "- when we apply print on string . it will display with out quotes"
   ]
  },
  {
   "cell_type": "code",
   "execution_count": 126,
   "id": "c5691073-b3e0-429d-acf3-40615b22d578",
   "metadata": {},
   "outputs": [
    {
     "name": "stdout",
     "output_type": "stream",
     "text": [
      "python\n"
     ]
    }
   ],
   "source": [
    "print(str2)"
   ]
  },
  {
   "cell_type": "code",
   "execution_count": 128,
   "id": "911f82bd-3549-43da-bc3c-b8de5823509b",
   "metadata": {},
   "outputs": [
    {
     "name": "stdout",
     "output_type": "stream",
     "text": [
      "python\n"
     ]
    },
    {
     "data": {
      "text/plain": [
       "NoneType"
      ]
     },
     "execution_count": 128,
     "metadata": {},
     "output_type": "execute_result"
    }
   ],
   "source": [
    "type(print(str1))"
   ]
  },
  {
   "cell_type": "code",
   "execution_count": 130,
   "id": "2bff6f38-bfe6-4c2f-80a3-5dcac7f31993",
   "metadata": {},
   "outputs": [
    {
     "data": {
      "text/plain": [
       "str"
      ]
     },
     "execution_count": 130,
     "metadata": {},
     "output_type": "execute_result"
    }
   ],
   "source": [
    "str3='abc123'\n",
    "type(str3)"
   ]
  },
  {
   "cell_type": "code",
   "execution_count": 132,
   "id": "4bd96be3-2e20-4d64-87a8-8c26825e9361",
   "metadata": {},
   "outputs": [
    {
     "data": {
      "text/plain": [
       "(str, str, str, str)"
      ]
     },
     "execution_count": 132,
     "metadata": {},
     "output_type": "execute_result"
    }
   ],
   "source": [
    "type('10'),type('10.5'),type('123'),type('apple')"
   ]
  },
  {
   "cell_type": "markdown",
   "id": "bbbe404f-cac0-4ae6-9dc0-bdfab0aee6e5",
   "metadata": {},
   "source": [
    "- any data type   or any value is provided by quotes means\n",
    "- it become a string only\n",
    "- strings always in red color\n",
    "- variables always in black color\n",
    "- keywords or numbers always in green color"
   ]
  },
  {
   "cell_type": "code",
   "execution_count": 139,
   "id": "5c027c1e-8957-43da-82ed-ef8de9d9919e",
   "metadata": {},
   "outputs": [
    {
     "data": {
      "text/plain": [
       "'raviteja'"
      ]
     },
     "execution_count": 139,
     "metadata": {},
     "output_type": "execute_result"
    }
   ],
   "source": [
    "raviteja='raviteja'\n",
    "raviteja\n",
    "# 'raviteja' is a english letter stored in a variable name called raviteja"
   ]
  },
  {
   "cell_type": "code",
   "execution_count": 143,
   "id": "cd4af9d2-c20c-48f8-812d-41e92b235b9b",
   "metadata": {},
   "outputs": [
    {
     "name": "stdout",
     "output_type": "stream",
     "text": [
      "i like 'python'\n"
     ]
    }
   ],
   "source": [
    "str3= \"i like 'python'\"\n",
    "print(str3)"
   ]
  },
  {
   "cell_type": "code",
   "execution_count": 153,
   "id": "e829fd81-6b9d-49e2-8044-14fa48b81138",
   "metadata": {},
   "outputs": [
    {
     "name": "stdout",
     "output_type": "stream",
     "text": [
      "i like \"python\"\n"
     ]
    }
   ],
   "source": [
    "str3 ='i like \"python\"'\n",
    "print(str3)"
   ]
  },
  {
   "cell_type": "markdown",
   "id": "7f12ec87-eebd-4035-b627-2639878979e4",
   "metadata": {},
   "source": [
    "- if you want to highlight any word\n",
    "- represent entire string in single quotes, highlighted word in double quotes or vice versa"
   ]
  },
  {
   "cell_type": "code",
   "execution_count": 156,
   "id": "0c7e54d4-ad1c-4932-8d00-c85eade423b8",
   "metadata": {},
   "outputs": [
    {
     "ename": "SyntaxError",
     "evalue": "invalid syntax (3479604206.py, line 2)",
     "output_type": "error",
     "traceback": [
      "\u001b[1;36m  Cell \u001b[1;32mIn[156], line 2\u001b[1;36m\u001b[0m\n\u001b[1;33m    how are you\u001b[0m\n\u001b[1;37m        ^\u001b[0m\n\u001b[1;31mSyntaxError\u001b[0m\u001b[1;31m:\u001b[0m invalid syntax\n"
     ]
    }
   ],
   "source": [
    "hai\n",
    "how are you"
   ]
  },
  {
   "cell_type": "code",
   "execution_count": 158,
   "id": "6781275f-ef56-4074-9ee0-8820f041c9aa",
   "metadata": {},
   "outputs": [
    {
     "ename": "SyntaxError",
     "evalue": "unterminated string literal (detected at line 1) (1905592316.py, line 1)",
     "output_type": "error",
     "traceback": [
      "\u001b[1;36m  Cell \u001b[1;32mIn[158], line 1\u001b[1;36m\u001b[0m\n\u001b[1;33m    str1='hai\u001b[0m\n\u001b[1;37m         ^\u001b[0m\n\u001b[1;31mSyntaxError\u001b[0m\u001b[1;31m:\u001b[0m unterminated string literal (detected at line 1)\n"
     ]
    }
   ],
   "source": [
    "str1='hai\n",
    "        how are you \n",
    "        im good'"
   ]
  },
  {
   "cell_type": "code",
   "execution_count": 160,
   "id": "b20baba3-fa61-4828-beeb-cedc73c8aea5",
   "metadata": {},
   "outputs": [
    {
     "ename": "SyntaxError",
     "evalue": "unterminated string literal (detected at line 1) (3167671635.py, line 1)",
     "output_type": "error",
     "traceback": [
      "\u001b[1;36m  Cell \u001b[1;32mIn[160], line 1\u001b[1;36m\u001b[0m\n\u001b[1;33m    str1=\"hai\u001b[0m\n\u001b[1;37m         ^\u001b[0m\n\u001b[1;31mSyntaxError\u001b[0m\u001b[1;31m:\u001b[0m unterminated string literal (detected at line 1)\n"
     ]
    }
   ],
   "source": [
    "str1=\"hai\n",
    "    how are you\n",
    "    im good\""
   ]
  },
  {
   "cell_type": "code",
   "execution_count": 164,
   "id": "ba2012b2-de26-445a-a72e-eaab26a8e422",
   "metadata": {},
   "outputs": [
    {
     "data": {
      "text/plain": [
       "'hai\\n    how are you \\n    im good'"
      ]
     },
     "execution_count": 164,
     "metadata": {},
     "output_type": "execute_result"
    }
   ],
   "source": [
    "str1=\"\"\"hai\n",
    "    how are you \n",
    "    im good\"\"\"\n",
    "str1"
   ]
  },
  {
   "cell_type": "code",
   "execution_count": 166,
   "id": "953b1507-450d-48af-b6a9-d8c701be17b5",
   "metadata": {},
   "outputs": [
    {
     "name": "stdout",
     "output_type": "stream",
     "text": [
      "hai\n",
      "    how are you \n",
      "    im good\n"
     ]
    }
   ],
   "source": [
    "print(str1)"
   ]
  },
  {
   "cell_type": "markdown",
   "id": "511ed514-645b-4783-9f80-42c3342f438e",
   "metadata": {},
   "source": [
    "- triple quotes is used for write  a multi line comments\n",
    "- this is called as **Docstring**\n",
    "- in order to write a story in jupyternotebooks we have a markdown\n",
    "- but other platforms like VScode, Pycharm we don't have a markdown\n",
    "- then how can we write a story: by using triple quotes\n",
    "- if any person writing some thing using triple quotes , which indicates the user is trying to convey the information\n",
    "- this is process called as **Docstring**"
   ]
  },
  {
   "cell_type": "markdown",
   "id": "c4cb6a11-1abb-4bed-910a-2a36ef4a2426",
   "metadata": {},
   "source": [
    "# BOOLEAN "
   ]
  },
  {
   "cell_type": "markdown",
   "id": "110339ac-6c9f-429d-840c-b8487f579c1e",
   "metadata": {},
   "source": [
    "- Computer takes the values in binary format (1,0)\n",
    "- computer gives the answer in boolean format\n",
    "    - True\n",
    "    - False\n",
    "- True indicates 1\n",
    "- False indicates 0"
   ]
  },
  {
   "cell_type": "code",
   "execution_count": 174,
   "id": "8ec74648-cc3d-4c20-8dcc-9d0886988ce3",
   "metadata": {},
   "outputs": [
    {
     "data": {
      "text/plain": [
       "bool"
      ]
     },
     "execution_count": 174,
     "metadata": {},
     "output_type": "execute_result"
    }
   ],
   "source": [
    "val=True\n",
    "type(val)"
   ]
  },
  {
   "cell_type": "code",
   "execution_count": 176,
   "id": "0ad52602-7512-4651-b5f2-c16831328f71",
   "metadata": {},
   "outputs": [
    {
     "data": {
      "text/plain": [
       "bool"
      ]
     },
     "execution_count": 176,
     "metadata": {},
     "output_type": "execute_result"
    }
   ],
   "source": [
    "val1=False\n",
    "type(val1)"
   ]
  },
  {
   "cell_type": "code",
   "execution_count": 178,
   "id": "e059eb18-7d93-4a84-af38-49ace4fc1897",
   "metadata": {},
   "outputs": [
    {
     "data": {
      "text/plain": [
       "('True', True)"
      ]
     },
     "execution_count": 178,
     "metadata": {},
     "output_type": "execute_result"
    }
   ],
   "source": [
    "true='True'\n",
    "TRUE=True\n",
    "true,TRUE # two are variables"
   ]
  },
  {
   "cell_type": "code",
   "execution_count": 180,
   "id": "bd7777cb-3de5-476e-b1c3-bd1537104c1f",
   "metadata": {},
   "outputs": [
    {
     "data": {
      "text/plain": [
       "(str, bool)"
      ]
     },
     "execution_count": 180,
     "metadata": {},
     "output_type": "execute_result"
    }
   ],
   "source": [
    "type(true), type(TRUE)"
   ]
  },
  {
   "cell_type": "code",
   "execution_count": 182,
   "id": "e0b321bd-a1b8-441b-a328-283606c0d489",
   "metadata": {},
   "outputs": [
    {
     "data": {
      "text/plain": [
       "(int, float, str, bool)"
      ]
     },
     "execution_count": 182,
     "metadata": {},
     "output_type": "execute_result"
    }
   ],
   "source": [
    "a=10\n",
    "b=10.5\n",
    "c='10'\n",
    "d=True\n",
    "type(a),type(b),type(c),type(d)\n"
   ]
  },
  {
   "cell_type": "code",
   "execution_count": 1,
   "id": "6c92073e-cc58-4db9-b04f-b2443072278f",
   "metadata": {},
   "outputs": [
    {
     "data": {
      "text/plain": [
       "0.0001"
      ]
     },
     "execution_count": 1,
     "metadata": {},
     "output_type": "execute_result"
    }
   ],
   "source": [
    "10e-5"
   ]
  },
  {
   "cell_type": "code",
   "execution_count": 3,
   "id": "15b01ef9-b4de-4820-bd8b-debc3f93b87d",
   "metadata": {},
   "outputs": [
    {
     "data": {
      "text/plain": [
       "1e-06"
      ]
     },
     "execution_count": 3,
     "metadata": {},
     "output_type": "execute_result"
    }
   ],
   "source": [
    "10e-7"
   ]
  },
  {
   "cell_type": "code",
   "execution_count": 5,
   "id": "23777408-8d61-4306-9266-d54ba533bf0c",
   "metadata": {},
   "outputs": [
    {
     "data": {
      "text/plain": [
       "1e-05"
      ]
     },
     "execution_count": 5,
     "metadata": {},
     "output_type": "execute_result"
    }
   ],
   "source": [
    "10e-6"
   ]
  },
  {
   "cell_type": "code",
   "execution_count": 4,
   "id": "0b813bc5-b52b-4f58-b7d9-433a79ddb0c5",
   "metadata": {},
   "outputs": [
    {
     "name": "stdin",
     "output_type": "stream",
     "text": [
      "enter the number: 2\n"
     ]
    },
    {
     "data": {
      "text/plain": [
       "str"
      ]
     },
     "execution_count": 4,
     "metadata": {},
     "output_type": "execute_result"
    }
   ],
   "source": [
    "A=input(\"enter the number:\")\n",
    "type(A)"
   ]
  },
  {
   "cell_type": "code",
   "execution_count": null,
   "id": "ee7bc709-cad7-4140-adf5-1c19c78bc7f9",
   "metadata": {},
   "outputs": [],
   "source": []
  }
 ],
 "metadata": {
  "kernelspec": {
   "display_name": "Python 3 (ipykernel)",
   "language": "python",
   "name": "python3"
  },
  "language_info": {
   "codemirror_mode": {
    "name": "ipython",
    "version": 3
   },
   "file_extension": ".py",
   "mimetype": "text/x-python",
   "name": "python",
   "nbconvert_exporter": "python",
   "pygments_lexer": "ipython3",
   "version": "3.12.4"
  }
 },
 "nbformat": 4,
 "nbformat_minor": 5
}
