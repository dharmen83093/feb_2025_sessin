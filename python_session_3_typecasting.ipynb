{
 "cells": [
  {
   "cell_type": "markdown",
   "id": "0002bdab-4050-48d5-bd3f-2196c7d52869",
   "metadata": {},
   "source": [
    "**integer to other data types**"
   ]
  },
  {
   "cell_type": "code",
   "execution_count": 2,
   "id": "fd9d8156-8410-40a0-859b-59e09edb0e44",
   "metadata": {},
   "outputs": [
    {
     "data": {
      "text/plain": [
       "int"
      ]
     },
     "execution_count": 2,
     "metadata": {},
     "output_type": "execute_result"
    }
   ],
   "source": [
    "num1=100\n",
    "type(num1)"
   ]
  },
  {
   "cell_type": "code",
   "execution_count": 6,
   "id": "df291378-9b99-4317-91de-cd7de0e3bc1b",
   "metadata": {},
   "outputs": [
    {
     "data": {
      "text/plain": [
       "100.0"
      ]
     },
     "execution_count": 6,
     "metadata": {},
     "output_type": "execute_result"
    }
   ],
   "source": [
    "num_float=float(num1)\n",
    "num_float"
   ]
  },
  {
   "cell_type": "code",
   "execution_count": 8,
   "id": "5aafe8cc-1339-4ba4-bb17-110682928e12",
   "metadata": {},
   "outputs": [
    {
     "data": {
      "text/plain": [
       "float"
      ]
     },
     "execution_count": 8,
     "metadata": {},
     "output_type": "execute_result"
    }
   ],
   "source": [
    "type(num_float)"
   ]
  },
  {
   "cell_type": "markdown",
   "id": "ce731af5-87c1-4e5a-8247-e86eec6be18c",
   "metadata": {},
   "source": [
    "- num1 is a variable stored value: 100\n",
    "- num1 is a integer type\n",
    "- to convert float, float(num1)\n",
    "- float(num1) gives 100.0\n",
    "- float(num1) stored in a variable : num_float\n",
    "- num_float is float type"
   ]
  },
  {
   "cell_type": "markdown",
   "id": "73d8f850-cde1-465d-b58a-109b24b24c89",
   "metadata": {},
   "source": [
    "**NameERROr**\n",
    "- whenever if we see name error means that corresponding variable not intialisied\n",
    "- for example in below naresh is a variable\n",
    "- is not defined before, thats why we are getting error\n",
    "- so go above the lines and search for variable: naresh\n",
    "- if you fell that is already defined then run again"
   ]
  },
  {
   "cell_type": "code",
   "execution_count": 12,
   "id": "b6665f58-4eb1-4bc9-848b-a635753bed34",
   "metadata": {},
   "outputs": [
    {
     "ename": "NameError",
     "evalue": "name 'naresh' is not defined",
     "output_type": "error",
     "traceback": [
      "\u001b[1;31m---------------------------------------------------------------------------\u001b[0m",
      "\u001b[1;31mNameError\u001b[0m                                 Traceback (most recent call last)",
      "Cell \u001b[1;32mIn[12], line 1\u001b[0m\n\u001b[1;32m----> 1\u001b[0m naresh\n",
      "\u001b[1;31mNameError\u001b[0m: name 'naresh' is not defined"
     ]
    }
   ],
   "source": [
    "naresh"
   ]
  },
  {
   "cell_type": "code",
   "execution_count": 18,
   "id": "4b4df2bf-9cfb-420a-85d7-d292e1b44da5",
   "metadata": {},
   "outputs": [
    {
     "data": {
      "text/plain": [
       "10"
      ]
     },
     "execution_count": 18,
     "metadata": {},
     "output_type": "execute_result"
    }
   ],
   "source": [
    "python=naresh=10\n",
    "python"
   ]
  },
  {
   "cell_type": "code",
   "execution_count": 20,
   "id": "0b577970-37ff-4e85-aa81-c27dd18890d6",
   "metadata": {},
   "outputs": [
    {
     "data": {
      "text/plain": [
       "10"
      ]
     },
     "execution_count": 20,
     "metadata": {},
     "output_type": "execute_result"
    }
   ],
   "source": [
    "naresh"
   ]
  },
  {
   "cell_type": "markdown",
   "id": "8d280fb3-1bc6-4753-aba0-dced0825da6d",
   "metadata": {},
   "source": [
    "#  integer to string conversion"
   ]
  },
  {
   "cell_type": "code",
   "execution_count": 25,
   "id": "2a5c93b5-d9eb-4f7c-a5d1-1befc6f1399e",
   "metadata": {},
   "outputs": [
    {
     "data": {
      "text/plain": [
       "'10'"
      ]
     },
     "execution_count": 25,
     "metadata": {},
     "output_type": "execute_result"
    }
   ],
   "source": [
    "num1=10\n",
    "num_string=str(num1)\n",
    "num_string"
   ]
  },
  {
   "cell_type": "code",
   "execution_count": 27,
   "id": "fe27f463-9c7a-42bd-8379-e5524f3ae50c",
   "metadata": {},
   "outputs": [
    {
     "data": {
      "text/plain": [
       "str"
      ]
     },
     "execution_count": 27,
     "metadata": {},
     "output_type": "execute_result"
    }
   ],
   "source": [
    "type(num_string)"
   ]
  },
  {
   "cell_type": "code",
   "execution_count": 31,
   "id": "a26b03aa-278e-4d75-becf-84e5bf84a480",
   "metadata": {},
   "outputs": [
    {
     "data": {
      "text/plain": [
       "str"
      ]
     },
     "execution_count": 31,
     "metadata": {},
     "output_type": "execute_result"
    }
   ],
   "source": [
    "str='num1'\n",
    "type(str)"
   ]
  },
  {
   "cell_type": "markdown",
   "id": "67109401-3eb0-49dd-a233-4620d14d7781",
   "metadata": {},
   "source": [
    "# integer to boolean conversion"
   ]
  },
  {
   "cell_type": "code",
   "execution_count": 40,
   "id": "289d7b09-0b08-4865-b6a8-34349cc24b08",
   "metadata": {},
   "outputs": [
    {
     "name": "stdout",
     "output_type": "stream",
     "text": [
      "<class 'bool'>\n"
     ]
    },
    {
     "data": {
      "text/plain": [
       "True"
      ]
     },
     "execution_count": 40,
     "metadata": {},
     "output_type": "execute_result"
    }
   ],
   "source": [
    "num2=200\n",
    "bool_num2=bool(num2)\n",
    "print(type(bool_num2))\n",
    "bool_num2"
   ]
  },
  {
   "cell_type": "code",
   "execution_count": 46,
   "id": "fa5f0291-f177-4ae7-bd9f-c75077a6f1b6",
   "metadata": {},
   "outputs": [
    {
     "name": "stdout",
     "output_type": "stream",
     "text": [
      "<class 'bool'>\n"
     ]
    },
    {
     "data": {
      "text/plain": [
       "False"
      ]
     },
     "execution_count": 46,
     "metadata": {},
     "output_type": "execute_result"
    }
   ],
   "source": [
    "num3=0\n",
    "bool_num3=bool(num3)\n",
    "print(type(bool_num3))\n",
    "bool_num3"
   ]
  },
  {
   "cell_type": "markdown",
   "id": "b89c94ab-6d46-4201-8f7d-97e6e48204d8",
   "metadata": {},
   "source": [
    "**NOTE**\n",
    "- when boolean conversion of integer gives False\n",
    "  - for 0 value, It gives False"
   ]
  },
  {
   "cell_type": "code",
   "execution_count": 1,
   "id": "afd42d51-3d11-4c91-ac7e-9c8aa647c14e",
   "metadata": {},
   "outputs": [
    {
     "data": {
      "text/plain": [
       "(100.0, '100', True)"
      ]
     },
     "execution_count": 1,
     "metadata": {},
     "output_type": "execute_result"
    }
   ],
   "source": [
    "num1=100\n",
    "num1_float=float(num1)\n",
    "num1_string=str(num1)\n",
    "num1_bool=bool(num1)\n",
    "num1_float,num1_string,num1_bool"
   ]
  },
  {
   "cell_type": "code",
   "execution_count": 3,
   "id": "297d7e14-9ad9-45d4-b9ec-364696507af0",
   "metadata": {},
   "outputs": [
    {
     "data": {
      "text/plain": [
       "(1000.0, '1000', True)"
      ]
     },
     "execution_count": 3,
     "metadata": {},
     "output_type": "execute_result"
    }
   ],
   "source": [
    "float(1000), str(1000), bool(1000)"
   ]
  },
  {
   "cell_type": "markdown",
   "id": "7f8207e6-2392-41f2-be18-15ca4af8d22c",
   "metadata": {},
   "source": [
    "**Float to other data types**"
   ]
  },
  {
   "cell_type": "code",
   "execution_count": 5,
   "id": "461d47a0-934d-4bf1-a96a-5e8a7cadfd91",
   "metadata": {},
   "outputs": [
    {
     "data": {
      "text/plain": [
       "(100, '100.0', True)"
      ]
     },
     "execution_count": 5,
     "metadata": {},
     "output_type": "execute_result"
    }
   ],
   "source": [
    "num1=100.0\n",
    "float_int=int(num1)\n",
    "float_str=str(num1)\n",
    "float_bool=bool(num1)\n",
    "float_int,float_str,float_bool"
   ]
  },
  {
   "cell_type": "markdown",
   "id": "e2ec9934-b685-441d-82f8-842f15a2d24b",
   "metadata": {},
   "source": [
    "- first mistake conversion\n",
    "- printing the string value\n",
    "- providing some gap"
   ]
  },
  {
   "cell_type": "code",
   "execution_count": 7,
   "id": "f734ecc5-cefa-41c1-b7b8-2e1d3765ea6a",
   "metadata": {},
   "outputs": [
    {
     "data": {
      "text/plain": [
       "(0, '0.0', False)"
      ]
     },
     "execution_count": 7,
     "metadata": {},
     "output_type": "execute_result"
    }
   ],
   "source": [
    "int(0.0), str(0.0),bool(0.0)"
   ]
  },
  {
   "cell_type": "markdown",
   "id": "d132ea0d-251e-4ea3-8b66-c7152718c913",
   "metadata": {},
   "source": [
    "**String to other data type**"
   ]
  },
  {
   "cell_type": "code",
   "execution_count": 9,
   "id": "75fe689a-7382-4a61-9e23-ca547c62cc5e",
   "metadata": {},
   "outputs": [
    {
     "ename": "ValueError",
     "evalue": "invalid literal for int() with base 10: 'apple'",
     "output_type": "error",
     "traceback": [
      "\u001b[1;31m---------------------------------------------------------------------------\u001b[0m",
      "\u001b[1;31mValueError\u001b[0m                                Traceback (most recent call last)",
      "Cell \u001b[1;32mIn[9], line 3\u001b[0m\n\u001b[0;32m      1\u001b[0m \u001b[38;5;66;03m# case-1:\u001b[39;00m\n\u001b[0;32m      2\u001b[0m \u001b[38;5;28mstr\u001b[39m\u001b[38;5;241m=\u001b[39m\u001b[38;5;124m'\u001b[39m\u001b[38;5;124mapple\u001b[39m\u001b[38;5;124m'\u001b[39m\n\u001b[1;32m----> 3\u001b[0m \u001b[38;5;28mint\u001b[39m(\u001b[38;5;124m'\u001b[39m\u001b[38;5;124mapple\u001b[39m\u001b[38;5;124m'\u001b[39m) \u001b[38;5;66;03m#error\u001b[39;00m\n\u001b[0;32m      4\u001b[0m \u001b[38;5;28mfloat\u001b[39m(\u001b[38;5;124m'\u001b[39m\u001b[38;5;124mapple\u001b[39m\u001b[38;5;124m'\u001b[39m) \u001b[38;5;66;03m# error\u001b[39;00m\n\u001b[0;32m      5\u001b[0m \u001b[38;5;28mbool\u001b[39m(\u001b[38;5;124m'\u001b[39m\u001b[38;5;124mapple\u001b[39m\u001b[38;5;124m'\u001b[39m)\n",
      "\u001b[1;31mValueError\u001b[0m: invalid literal for int() with base 10: 'apple'"
     ]
    }
   ],
   "source": [
    "# case-1:\n",
    "str='apple'\n",
    "int('apple') #error\n",
    "float('apple') # error\n",
    "bool('apple') # true"
   ]
  },
  {
   "cell_type": "code",
   "execution_count": 11,
   "id": "b119e5fa-2046-4e9b-8ebb-51af96ceefa1",
   "metadata": {},
   "outputs": [
    {
     "ename": "ValueError",
     "evalue": "invalid literal for int() with base 10: 'apple123'",
     "output_type": "error",
     "traceback": [
      "\u001b[1;31m---------------------------------------------------------------------------\u001b[0m",
      "\u001b[1;31mValueError\u001b[0m                                Traceback (most recent call last)",
      "Cell \u001b[1;32mIn[11], line 3\u001b[0m\n\u001b[0;32m      1\u001b[0m \u001b[38;5;66;03m# case-2:\u001b[39;00m\n\u001b[0;32m      2\u001b[0m \u001b[38;5;28mstr\u001b[39m\u001b[38;5;241m=\u001b[39m\u001b[38;5;124m'\u001b[39m\u001b[38;5;124mapple123\u001b[39m\u001b[38;5;124m'\u001b[39m\n\u001b[1;32m----> 3\u001b[0m \u001b[38;5;28mint\u001b[39m(\u001b[38;5;124m'\u001b[39m\u001b[38;5;124mapple123\u001b[39m\u001b[38;5;124m'\u001b[39m) \u001b[38;5;66;03m#error\u001b[39;00m\n\u001b[0;32m      4\u001b[0m \u001b[38;5;28mfloat\u001b[39m(\u001b[38;5;124m'\u001b[39m\u001b[38;5;124mapple123\u001b[39m\u001b[38;5;124m'\u001b[39m) \u001b[38;5;66;03m# error\u001b[39;00m\n\u001b[0;32m      5\u001b[0m \u001b[38;5;28mbool\u001b[39m(\u001b[38;5;124m'\u001b[39m\u001b[38;5;124mapple123\u001b[39m\u001b[38;5;124m'\u001b[39m)\n",
      "\u001b[1;31mValueError\u001b[0m: invalid literal for int() with base 10: 'apple123'"
     ]
    }
   ],
   "source": [
    "# case-2:\n",
    "str='apple123'\n",
    "int('apple123') #error\n",
    "float('apple123') # error\n",
    "bool('apple123') # true"
   ]
  },
  {
   "cell_type": "code",
   "execution_count": 13,
   "id": "ee725027-c0b2-475d-90e4-9ce357cf578a",
   "metadata": {},
   "outputs": [
    {
     "data": {
      "text/plain": [
       "True"
      ]
     },
     "execution_count": 13,
     "metadata": {},
     "output_type": "execute_result"
    }
   ],
   "source": [
    "# case -3 \n",
    "str='0'\n",
    "int('0') # 0\n",
    "float('0') # 0.0\n",
    "bool('0') # True/False"
   ]
  },
  {
   "cell_type": "code",
   "execution_count": 15,
   "id": "13fb9c5d-c926-4b45-a3fc-01b95d29183e",
   "metadata": {},
   "outputs": [
    {
     "ename": "ValueError",
     "evalue": "invalid literal for int() with base 10: ''",
     "output_type": "error",
     "traceback": [
      "\u001b[1;31m---------------------------------------------------------------------------\u001b[0m",
      "\u001b[1;31mValueError\u001b[0m                                Traceback (most recent call last)",
      "Cell \u001b[1;32mIn[15], line 3\u001b[0m\n\u001b[0;32m      1\u001b[0m \u001b[38;5;66;03m# case - 4\u001b[39;00m\n\u001b[0;32m      2\u001b[0m \u001b[38;5;28mstr\u001b[39m \u001b[38;5;241m=\u001b[39m \u001b[38;5;124m'\u001b[39m\u001b[38;5;124m'\u001b[39m\n\u001b[1;32m----> 3\u001b[0m \u001b[38;5;28mint\u001b[39m(\u001b[38;5;124m'\u001b[39m\u001b[38;5;124m'\u001b[39m) \u001b[38;5;66;03m# error\u001b[39;00m\n\u001b[0;32m      4\u001b[0m \u001b[38;5;28mfloat\u001b[39m(\u001b[38;5;124m'\u001b[39m\u001b[38;5;124m'\u001b[39m) \u001b[38;5;66;03m# error\u001b[39;00m\n\u001b[0;32m      5\u001b[0m \u001b[38;5;28mbool\u001b[39m(\u001b[38;5;124m'\u001b[39m\u001b[38;5;124m'\u001b[39m)\n",
      "\u001b[1;31mValueError\u001b[0m: invalid literal for int() with base 10: ''"
     ]
    }
   ],
   "source": [
    "# case - 4\n",
    "str = ''\n",
    "int('') # error\n",
    "float('') # error\n",
    "bool('') # False"
   ]
  },
  {
   "cell_type": "code",
   "execution_count": 17,
   "id": "67c0748a-8e1c-41dc-aec5-349b18432282",
   "metadata": {},
   "outputs": [
    {
     "data": {
      "text/plain": [
       "True"
      ]
     },
     "execution_count": 17,
     "metadata": {},
     "output_type": "execute_result"
    }
   ],
   "source": [
    "# case  -5\n",
    "str = '10'\n",
    "int('10') # 10\n",
    "float('10') #10.0\n",
    "bool('10') #true"
   ]
  },
  {
   "cell_type": "code",
   "execution_count": 19,
   "id": "39cff0d3-cacd-41c8-aa34-58dafee9a4b9",
   "metadata": {},
   "outputs": [
    {
     "ename": "ValueError",
     "evalue": "invalid literal for int() with base 10: '10.4'",
     "output_type": "error",
     "traceback": [
      "\u001b[1;31m---------------------------------------------------------------------------\u001b[0m",
      "\u001b[1;31mValueError\u001b[0m                                Traceback (most recent call last)",
      "Cell \u001b[1;32mIn[19], line 3\u001b[0m\n\u001b[0;32m      1\u001b[0m \u001b[38;5;66;03m# case  -5\u001b[39;00m\n\u001b[0;32m      2\u001b[0m \u001b[38;5;28mstr\u001b[39m \u001b[38;5;241m=\u001b[39m \u001b[38;5;124m'\u001b[39m\u001b[38;5;124m10.4\u001b[39m\u001b[38;5;124m'\u001b[39m\n\u001b[1;32m----> 3\u001b[0m \u001b[38;5;28mint\u001b[39m(\u001b[38;5;124m'\u001b[39m\u001b[38;5;124m10.4\u001b[39m\u001b[38;5;124m'\u001b[39m) \u001b[38;5;66;03m# 10\u001b[39;00m\n\u001b[0;32m      4\u001b[0m \u001b[38;5;28mfloat\u001b[39m(\u001b[38;5;124m'\u001b[39m\u001b[38;5;124m10.4\u001b[39m\u001b[38;5;124m'\u001b[39m) \u001b[38;5;66;03m#10.0\u001b[39;00m\n\u001b[0;32m      5\u001b[0m \u001b[38;5;28mbool\u001b[39m(\u001b[38;5;124m'\u001b[39m\u001b[38;5;124m10.4\u001b[39m\u001b[38;5;124m'\u001b[39m)\n",
      "\u001b[1;31mValueError\u001b[0m: invalid literal for int() with base 10: '10.4'"
     ]
    }
   ],
   "source": [
    "# case  -5\n",
    "str = '10.4'\n",
    "int('10.4') # 10\n",
    "float('10.4') #10.0\n",
    "bool('10.4') #true"
   ]
  },
  {
   "cell_type": "code",
   "execution_count": 21,
   "id": "90fe4cb7-7cf9-452a-8ca7-c8c1d92a2eda",
   "metadata": {},
   "outputs": [
    {
     "ename": "ValueError",
     "evalue": "invalid literal for int() with base 10: '10.4'",
     "output_type": "error",
     "traceback": [
      "\u001b[1;31m---------------------------------------------------------------------------\u001b[0m",
      "\u001b[1;31mValueError\u001b[0m                                Traceback (most recent call last)",
      "Cell \u001b[1;32mIn[21], line 1\u001b[0m\n\u001b[1;32m----> 1\u001b[0m \u001b[38;5;28mint\u001b[39m(\u001b[38;5;124m'\u001b[39m\u001b[38;5;124m10.4\u001b[39m\u001b[38;5;124m'\u001b[39m)\n",
      "\u001b[1;31mValueError\u001b[0m: invalid literal for int() with base 10: '10.4'"
     ]
    }
   ],
   "source": [
    "int('10.4') # 10"
   ]
  },
  {
   "cell_type": "code",
   "execution_count": 23,
   "id": "be0f2d6c-21ed-4205-939a-b66385c32ada",
   "metadata": {},
   "outputs": [
    {
     "data": {
      "text/plain": [
       "10.4"
      ]
     },
     "execution_count": 23,
     "metadata": {},
     "output_type": "execute_result"
    }
   ],
   "source": [
    "float('10.4') #10.0"
   ]
  },
  {
   "cell_type": "code",
   "execution_count": 25,
   "id": "876bb300-8479-4730-b9aa-5985ae6c1804",
   "metadata": {},
   "outputs": [
    {
     "data": {
      "text/plain": [
       "True"
      ]
     },
     "execution_count": 25,
     "metadata": {},
     "output_type": "execute_result"
    }
   ],
   "source": [
    "bool('10.4') #true"
   ]
  },
  {
   "cell_type": "markdown",
   "id": "ef3fa730-1e66-4bd9-a71b-20cbc62f81a0",
   "metadata": {},
   "source": [
    "- english letters as string representation\n",
    "  - apple\n",
    "    - integer conversion fail\n",
    "    - float conversion fail\n",
    "    - boolean conversion True\n",
    "- english letters with nunbers as string representation\n",
    "  -  apple123\n",
    "    - integer conversion fail\n",
    "    - float conversion fail\n",
    "    - boolean conversion True\n",
    "- 0 as string representation\n",
    "  - integer conversion will give 0\n",
    "  - float conversion will give 0.0\n",
    "  - boolean conversion True\n",
    "- empty string as string representation\n",
    "  - integer conversion fail\n",
    "  - float conversion fail\n",
    "  - boolean conversion False\n",
    "- 10 as string representation\n",
    "  - integer conversion will give 10\n",
    "  - float conversion will give 10.0\n",
    "  - boolean conversion True\n",
    "- 10.4 as string  representation\n",
    "  - integer conversion will fail\n",
    "  - float conversion will give 10.4\n",
    "  - boolean conversion true\n",
    "    "
   ]
  },
  {
   "cell_type": "code",
   "execution_count": 102,
   "id": "5c4ce832-d380-4aea-aedc-fb997759ef73",
   "metadata": {},
   "outputs": [
    {
     "data": {
      "text/plain": [
       "10"
      ]
     },
     "execution_count": 102,
     "metadata": {},
     "output_type": "execute_result"
    }
   ],
   "source": [
    "int('10')"
   ]
  },
  {
   "cell_type": "code",
   "execution_count": 104,
   "id": "4dd1c0e3-c19d-48e6-9c14-23237f1da920",
   "metadata": {},
   "outputs": [
    {
     "data": {
      "text/plain": [
       "10.5"
      ]
     },
     "execution_count": 104,
     "metadata": {},
     "output_type": "execute_result"
    }
   ],
   "source": [
    "float('10.5')"
   ]
  },
  {
   "cell_type": "code",
   "execution_count": 108,
   "id": "172c15c9-6c4e-4cbf-8db0-ef653953db7d",
   "metadata": {},
   "outputs": [
    {
     "data": {
      "text/plain": [
       "10.0"
      ]
     },
     "execution_count": 108,
     "metadata": {},
     "output_type": "execute_result"
    }
   ],
   "source": [
    "float('10')"
   ]
  },
  {
   "cell_type": "code",
   "execution_count": 110,
   "id": "e2ffbba5-101c-4910-93c1-1ed58fb14702",
   "metadata": {},
   "outputs": [
    {
     "data": {
      "text/plain": [
       "10.748"
      ]
     },
     "execution_count": 110,
     "metadata": {},
     "output_type": "execute_result"
    }
   ],
   "source": [
    "float(10.748)"
   ]
  },
  {
   "cell_type": "code",
   "execution_count": 112,
   "id": "1d461b43-40bd-466a-99bf-e73e1d40e6cb",
   "metadata": {},
   "outputs": [
    {
     "data": {
      "text/plain": [
       "10"
      ]
     },
     "execution_count": 112,
     "metadata": {},
     "output_type": "execute_result"
    }
   ],
   "source": [
    "int(float(10.748))"
   ]
  },
  {
   "cell_type": "markdown",
   "id": "a604411b-3685-4de0-9eb4-bf60e4276dc0",
   "metadata": {},
   "source": [
    "**float is the boss**\n",
    "- float('10')\n",
    "- float('10.5')\n",
    "\n",
    "**integer will works only int family**\n",
    "- int('10.5') #Error\n",
    "- boolean conversion of empty string gives False\n",
    "- otherwise True"
   ]
  },
  {
   "cell_type": "code",
   "execution_count": 116,
   "id": "77ce5d48-fbed-46c3-9c95-3ab06fa31e57",
   "metadata": {},
   "outputs": [
    {
     "data": {
      "text/plain": [
       "(False, True)"
      ]
     },
     "execution_count": 116,
     "metadata": {},
     "output_type": "execute_result"
    }
   ],
   "source": [
    "bool(''),bool(' ')"
   ]
  },
  {
   "cell_type": "code",
   "execution_count": 119,
   "id": "7cffe3c7-c71d-41a3-9c0b-6230a5e42760",
   "metadata": {},
   "outputs": [
    {
     "data": {
      "text/plain": [
       "0"
      ]
     },
     "execution_count": 119,
     "metadata": {},
     "output_type": "execute_result"
    }
   ],
   "source": [
    "len('')"
   ]
  },
  {
   "cell_type": "code",
   "execution_count": null,
   "id": "cebf988e-567a-4443-8d05-949dc3c73621",
   "metadata": {},
   "outputs": [],
   "source": [
    "int(10.8) # NUmber system it will works\n",
    "int('10.5') # This will not works"
   ]
  },
  {
   "cell_type": "code",
   "execution_count": 1,
   "id": "8e48e96b-3da4-4418-8be7-fec2a2eddb5c",
   "metadata": {},
   "outputs": [
    {
     "data": {
      "text/plain": [
       "'True'"
      ]
     },
     "execution_count": 1,
     "metadata": {},
     "output_type": "execute_result"
    }
   ],
   "source": [
    "int(True)\n",
    "float(True)\n",
    "str(True)"
   ]
  },
  {
   "cell_type": "code",
   "execution_count": 3,
   "id": "00c3b7d9-5e79-4fb2-8d16-076868f1039d",
   "metadata": {},
   "outputs": [
    {
     "data": {
      "text/plain": [
       "'False'"
      ]
     },
     "execution_count": 3,
     "metadata": {},
     "output_type": "execute_result"
    }
   ],
   "source": [
    "int(True)\n",
    "float(True)\n",
    "str(False)"
   ]
  },
  {
   "cell_type": "code",
   "execution_count": null,
   "id": "193eadd9-d92b-43f1-bd04-719df7927e0a",
   "metadata": {},
   "outputs": [],
   "source": []
  }
 ],
 "metadata": {
  "kernelspec": {
   "display_name": "Python 3 (ipykernel)",
   "language": "python",
   "name": "python3"
  },
  "language_info": {
   "codemirror_mode": {
    "name": "ipython",
    "version": 3
   },
   "file_extension": ".py",
   "mimetype": "text/x-python",
   "name": "python",
   "nbconvert_exporter": "python",
   "pygments_lexer": "ipython3",
   "version": "3.12.4"
  }
 },
 "nbformat": 4,
 "nbformat_minor": 5
}
