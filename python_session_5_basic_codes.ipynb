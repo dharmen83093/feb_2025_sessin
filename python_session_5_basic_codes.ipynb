{
 "cells": [
  {
   "cell_type": "code",
   "execution_count": 40,
   "id": "1727d486-46cc-434f-8c02-28301651178d",
   "metadata": {},
   "outputs": [
    {
     "name": "stdout",
     "output_type": "stream",
     "text": [
      "the average of 25,30 and 37 is 30.666666666666668\n",
      "the average of 25,30,37 is 30.666666666666668\n"
     ]
    }
   ],
   "source": [
    "num1=25\n",
    "num2=30\n",
    "num3=37\n",
    "avg=(num1+num2+num3)/3\n",
    "print(\"the average of {},{} and {} is {}\".format(num1,num2,num3,avg))\n",
    "print(f\"the average of {num1},{num2},{num3} is {avg}\")"
   ]
  },
  {
   "cell_type": "markdown",
   "id": "0ab7fe5b-8950-40d2-ae23-ed21a6319e6d",
   "metadata": {},
   "source": [
    "# **Round**"
   ]
  },
  {
   "cell_type": "code",
   "execution_count": 8,
   "id": "ec2ab1c7-f894-43f1-b250-1121b9317da0",
   "metadata": {},
   "outputs": [
    {
     "data": {
      "text/plain": [
       "41"
      ]
     },
     "execution_count": 8,
     "metadata": {},
     "output_type": "execute_result"
    }
   ],
   "source": [
    "round(40.5678)"
   ]
  },
  {
   "cell_type": "code",
   "execution_count": 10,
   "id": "09be253b-8038-4c74-8047-9a88241e110a",
   "metadata": {},
   "outputs": [
    {
     "data": {
      "text/plain": [
       "40.6"
      ]
     },
     "execution_count": 10,
     "metadata": {},
     "output_type": "execute_result"
    }
   ],
   "source": [
    "round(40.5678,1)"
   ]
  },
  {
   "cell_type": "code",
   "execution_count": 12,
   "id": "161500ae-f25f-441b-9913-ba1112da38af",
   "metadata": {},
   "outputs": [
    {
     "data": {
      "text/plain": [
       "40.57"
      ]
     },
     "execution_count": 12,
     "metadata": {},
     "output_type": "execute_result"
    }
   ],
   "source": [
    "round(40.5678,2)"
   ]
  },
  {
   "cell_type": "code",
   "execution_count": 16,
   "id": "970f733e-027b-4753-9aa4-0f0b99980b2f",
   "metadata": {},
   "outputs": [
    {
     "data": {
      "text/plain": [
       "40.5678"
      ]
     },
     "execution_count": 16,
     "metadata": {},
     "output_type": "execute_result"
    }
   ],
   "source": [
    "round(40.5678,4)"
   ]
  },
  {
   "cell_type": "code",
   "execution_count": 18,
   "id": "c80d1012-9228-4a13-a08a-a4f89b637817",
   "metadata": {},
   "outputs": [
    {
     "data": {
      "text/plain": [
       "0.0"
      ]
     },
     "execution_count": 18,
     "metadata": {},
     "output_type": "execute_result"
    }
   ],
   "source": [
    "round(10e-7,1)"
   ]
  },
  {
   "cell_type": "code",
   "execution_count": 20,
   "id": "ad7dc59d-a598-474c-84e2-d927bf0e6508",
   "metadata": {},
   "outputs": [
    {
     "data": {
      "text/plain": [
       "1e-06"
      ]
     },
     "execution_count": 20,
     "metadata": {},
     "output_type": "execute_result"
    }
   ],
   "source": [
    "10e-7"
   ]
  },
  {
   "cell_type": "code",
   "execution_count": 22,
   "id": "db3112f4-a257-4531-a0fe-310c06403e3a",
   "metadata": {},
   "outputs": [
    {
     "data": {
      "text/plain": [
       "0.0"
      ]
     },
     "execution_count": 22,
     "metadata": {},
     "output_type": "execute_result"
    }
   ],
   "source": [
    "round(1e-06,2)"
   ]
  },
  {
   "cell_type": "code",
   "execution_count": 24,
   "id": "6e1bec03-0ed6-4c80-82ad-ce5bd9854828",
   "metadata": {},
   "outputs": [
    {
     "data": {
      "text/plain": [
       "35"
      ]
     },
     "execution_count": 24,
     "metadata": {},
     "output_type": "execute_result"
    }
   ],
   "source": [
    "round(35.490)"
   ]
  },
  {
   "cell_type": "code",
   "execution_count": 26,
   "id": "fba17ffc-64e6-4acc-94fc-0121b6c77583",
   "metadata": {},
   "outputs": [
    {
     "data": {
      "text/plain": [
       "35.5"
      ]
     },
     "execution_count": 26,
     "metadata": {},
     "output_type": "execute_result"
    }
   ],
   "source": [
    "round(35.490,1)"
   ]
  },
  {
   "cell_type": "code",
   "execution_count": 28,
   "id": "d4c6a0cb-1de1-4b8c-944c-0fa3733a5791",
   "metadata": {},
   "outputs": [
    {
     "data": {
      "text/plain": [
       "35.49"
      ]
     },
     "execution_count": 28,
     "metadata": {},
     "output_type": "execute_result"
    }
   ],
   "source": [
    "round(35.494893,2)"
   ]
  },
  {
   "cell_type": "code",
   "execution_count": 30,
   "id": "0caea8f5-1066-47ff-b617-c04e9da04ebf",
   "metadata": {},
   "outputs": [
    {
     "data": {
      "text/plain": [
       "35.494"
      ]
     },
     "execution_count": 30,
     "metadata": {},
     "output_type": "execute_result"
    }
   ],
   "source": [
    "round(35.4943889439,3)"
   ]
  },
  {
   "cell_type": "code",
   "execution_count": 32,
   "id": "d992beb9-5c28-4ea4-a65b-1bdfcdbd4a34",
   "metadata": {},
   "outputs": [
    {
     "data": {
      "text/plain": [
       "35.4944"
      ]
     },
     "execution_count": 32,
     "metadata": {},
     "output_type": "execute_result"
    }
   ],
   "source": [
    "round(35.4943889439,4)"
   ]
  },
  {
   "cell_type": "code",
   "execution_count": 34,
   "id": "0cf6bea2-9d55-4e79-814e-835fa1d60db7",
   "metadata": {},
   "outputs": [
    {
     "data": {
      "text/plain": [
       "35.49439"
      ]
     },
     "execution_count": 34,
     "metadata": {},
     "output_type": "execute_result"
    }
   ],
   "source": [
    "round(35.4943889439,5)"
   ]
  },
  {
   "cell_type": "code",
   "execution_count": 36,
   "id": "3a970390-66be-4c7f-93ac-748caf388e90",
   "metadata": {},
   "outputs": [
    {
     "data": {
      "text/plain": [
       "35.494389"
      ]
     },
     "execution_count": 36,
     "metadata": {},
     "output_type": "execute_result"
    }
   ],
   "source": [
    "round(35.4943889439,6)"
   ]
  },
  {
   "cell_type": "code",
   "execution_count": 38,
   "id": "42424a07-ffb7-430d-9e3c-dde89ac0565d",
   "metadata": {},
   "outputs": [
    {
     "data": {
      "text/plain": [
       "35.4943889"
      ]
     },
     "execution_count": 38,
     "metadata": {},
     "output_type": "execute_result"
    }
   ],
   "source": [
    "round(35.4943889439,7)"
   ]
  },
  {
   "cell_type": "code",
   "execution_count": 46,
   "id": "8276d184-6378-4265-8d53-dddce9242130",
   "metadata": {},
   "outputs": [
    {
     "name": "stdout",
     "output_type": "stream",
     "text": [
      "the average of 25,30 and 37 is 31\n",
      "the average of 25,30,37 is 31\n"
     ]
    }
   ],
   "source": [
    "num1=25\n",
    "num2=30\n",
    "num3=37\n",
    "avg=round((num1+num2+num3)/3)\n",
    "print(\"the average of {},{} and {} is {}\".format(num1,num2,num3,avg))\n",
    "print(f\"the average of {num1},{num2},{num3} is {avg}\")"
   ]
  },
  {
   "cell_type": "code",
   "execution_count": 42,
   "id": "c0dbb229-2e2a-4de0-887e-1c132c83eb2f",
   "metadata": {},
   "outputs": [],
   "source": [
    "avg=round((10+20+30)/3,2)\n",
    "avg\n",
    "\n",
    "avg=(10+20+30)/3\n",
    "avg1=round(avg,2)\n"
   ]
  },
  {
   "cell_type": "code",
   "execution_count": 62,
   "id": "bfe948ea-ceb0-40d1-a337-f87fc353926b",
   "metadata": {},
   "outputs": [
    {
     "name": "stdout",
     "output_type": "stream",
     "text": [
      "the area of a right angle triangle is 600.0\n",
      "the area of a right angle triangle 40,30 is 600.0\n"
     ]
    }
   ],
   "source": [
    "# WAP ask the user take height of the triangle\n",
    "# breadth of the triangle\n",
    "# calculate the area of the right angle triangle\n",
    "height=40\n",
    "breadth=30\n",
    "area=(height*breadth)/2\n",
    "print(f\"the area of a right angle triangle is {area}\")\n",
    "print(\"the area of a right angle triangle {},{} is {}\".format(height,breadth,area))"
   ]
  },
  {
   "cell_type": "code",
   "execution_count": 70,
   "id": "b2193ae8-2ab2-4a11-889a-d19fb38f6936",
   "metadata": {},
   "outputs": [
    {
     "name": "stdout",
     "output_type": "stream",
     "text": [
      "the area of the circle with 4 radius is 50.24\n",
      "the area of the circle with 4 radius is 50.24\n"
     ]
    }
   ],
   "source": [
    "# WAP ask the user take the radius of circle\n",
    "# calculate the area of the circle\n",
    "# formula PI*r*r where pi=3.14\n",
    "rad=4\n",
    "pi=3.14\n",
    "area = pi*rad*rad\n",
    "print(f\"the area of the circle with {rad} radius is {area}\")\n",
    "print(\"the area of the circle with {} radius is {}\".format(rad,area))"
   ]
  },
  {
   "cell_type": "code",
   "execution_count": 54,
   "id": "bfbcb1bd-09c3-4b3a-a2fd-65f7c78c5804",
   "metadata": {},
   "outputs": [
    {
     "name": "stdout",
     "output_type": "stream",
     "text": [
      "the area of rectangle is 50\n"
     ]
    }
   ],
   "source": [
    "# WAP ask the user take the length and breadth\n",
    "# calculate the area of the rectangle\n",
    "# formula l*b\n",
    "len=10\n",
    "bre=5\n",
    "area=len*bre\n",
    "print(f\"the area of rectangle is {area}\")"
   ]
  },
  {
   "cell_type": "code",
   "execution_count": 80,
   "id": "05ebf6b6-1328-479c-9f57-883a37809a1c",
   "metadata": {},
   "outputs": [
    {
     "name": "stdout",
     "output_type": "stream",
     "text": [
      "the total bill amount is 1100.0 \n",
      "the total bill amount is 1100.0\n"
     ]
    }
   ],
   "source": [
    "# WAP ask the how much bill he wants to pay\n",
    "# how much tip percentage he wants to give\n",
    "# calculate the total bill amount\n",
    "\n",
    "#bill amount=1000\n",
    "# you want give 10% tip\n",
    "# total bill =1000 + 100\n",
    "\n",
    "bill = 1000\n",
    "tip_on_perc = 0.1*bill\n",
    "total_bill = bill + tip_on_perc\n",
    "print(\"the total bill amount is {} \".format(total_bill))\n",
    "print(f\"the total bill amount is {total_bill}\")"
   ]
  },
  {
   "cell_type": "code",
   "execution_count": 108,
   "id": "c7d315ac-1c21-4f0a-ba60-0a6baa30d0a9",
   "metadata": {},
   "outputs": [
    {
     "name": "stdout",
     "output_type": "stream",
     "text": [
      "son: hey dad\n",
      "dad: hi beta\n",
      "son: whatsup dad\n",
      "dad: i got to know that yours exams results are out\n",
      "son: yes dad\n",
      "dad: do you pass the exam\n",
      "son: ofcourse dad\n",
      "dad: tell me the percentage\n",
      "son: you know maths , i will give the score calculate percentage\n",
      "dad: okay\n",
      "=================calculation of % of marks===========\n",
      "dad: you percentage of marks is 89.67\n",
      "dad: you percentage of marks a student is 89.67 \n"
     ]
    }
   ],
   "source": [
    "# a story you and your dad\n",
    "# he wants to know your marks\n",
    "# he wants to know your percentage of marks\n",
    "\n",
    "print(\"son: hey dad\")\n",
    "print(\"dad: hi beta\")\n",
    "print(\"son: whatsup dad\")\n",
    "print(\"dad: i got to know that yours exams results are out\")\n",
    "print('son: yes dad')\n",
    "print('dad: do you pass the exam')\n",
    "print(\"son: ofcourse dad\")\n",
    "print('dad: tell me the percentage')\n",
    "print('son: you know maths , i will give the score calculate percentage')\n",
    "print('dad: okay')\n",
    "\n",
    "telugu=91\n",
    "hindi=82\n",
    "english=92\n",
    "maths=89\n",
    "science=90\n",
    "social=94\n",
    "total_marks=telugu+hindi+english+maths+science+social\n",
    "\n",
    "percentage_of_marks=round(total_marks/6,2)\n",
    "print(\"=================calculation of % of marks===========\")\n",
    "\n",
    "print(f\"dad: you percentage of marks is {percentage_of_marks}\")\n",
    "print(\"dad: you percentage of marks a student is {} \".format(percentage_of_marks))"
   ]
  },
  {
   "cell_type": "code",
   "execution_count": 114,
   "id": "a01d09b7-1252-43aa-86c0-78f33cd66fc0",
   "metadata": {},
   "outputs": [
    {
     "name": "stdout",
     "output_type": "stream",
     "text": [
      "american guy: told to my parents\n",
      "parents: what?\n",
      "american guy : i am going to india for fun\n",
      "parent: yes, you can go and have fun in goa\n",
      "american guy: i went to goa and also pub\n",
      "american guy : after i finished all my fun\n",
      "american guy: went off pay the bill but he had dollars instead of rupees\n",
      "pub manager: said that we only accept the rupees\n",
      "then dollars value converted into rupes\n",
      "pub mangaer : accept\n",
      "guy: ur amount in dollars is 119.28903733746868\n",
      "guy: told to pub can u round to 2\n",
      "pub: sir ur round money is 119\n",
      "the american guy paid the money\n",
      "pub: thanks for payment\n",
      "guy: you are welcome\n",
      "pub: good day sir\n"
     ]
    }
   ],
   "source": [
    "# you went pub : bill 10K\n",
    "# american guy\n",
    "# you have only dollars\n",
    "# pub will take only rupees\n",
    "# you need to create a story between american guy and pub manager \n",
    "# where you want to apply print\n",
    "# where you want to take variables\n",
    "# where you will do calculations\n",
    "\n",
    "print(\"american guy: told to my parents\")\n",
    "print(\"parents: what?\")\n",
    "print(\"american guy : i am going to india for fun\")\n",
    "print(\"parent: yes, you can go and have fun in goa\")\n",
    "print(\"american guy: i went to goa and also pub\")\n",
    "print(\"american guy : after i finished all my fun\")\n",
    "bill_amount=10000\n",
    "print(\"american guy: went off pay the bill but he had dollars instead of rupees\")\n",
    "print(\"pub manager: said that we only accept the rupees\")\n",
    "one_dollar_rupees=83.83\n",
    "print('then dollars value converted into rupes')\n",
    "print(\"pub mangaer : accept\")\n",
    "amount_in_dollars= bill_amount/one_dollar_rupees\n",
    "print(f\"guy: ur amount in dollars is {bill_amount/one_dollar_rupees}\")\n",
    "print(\"guy: told to pub can u round to 2\")\n",
    "round_off=round(amount_in_dollars)\n",
    "print(f\"pub: sir ur round money is {round_off}\")\n",
    "print(\"the american guy paid the money\")\n",
    "print('pub: thanks for payment')\n",
    "print(\"guy: you are welcome\")\n",
    "print('pub: good day sir')"
   ]
  },
  {
   "cell_type": "code",
   "execution_count": null,
   "id": "f1ddff4d-a918-44a1-8b9d-d78fe9a41740",
   "metadata": {},
   "outputs": [],
   "source": []
  }
 ],
 "metadata": {
  "kernelspec": {
   "display_name": "Python 3 (ipykernel)",
   "language": "python",
   "name": "python3"
  },
  "language_info": {
   "codemirror_mode": {
    "name": "ipython",
    "version": 3
   },
   "file_extension": ".py",
   "mimetype": "text/x-python",
   "name": "python",
   "nbconvert_exporter": "python",
   "pygments_lexer": "ipython3",
   "version": "3.12.4"
  }
 },
 "nbformat": 4,
 "nbformat_minor": 5
}
