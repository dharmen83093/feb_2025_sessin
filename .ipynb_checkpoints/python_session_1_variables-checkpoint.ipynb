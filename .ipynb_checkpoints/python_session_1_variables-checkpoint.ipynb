{
 "cells": [
  {
   "cell_type": "code",
   "execution_count": 1,
   "id": "e85ea4b3-797f-4012-9f85-6c6bd5cdeb05",
   "metadata": {},
   "outputs": [
    {
     "data": {
      "text/plain": [
       "100"
      ]
     },
     "execution_count": 1,
     "metadata": {},
     "output_type": "execute_result"
    }
   ],
   "source": [
    "number = 100\n",
    "number\n",
    "\n",
    "#100 is stored in variable named 'number'"
   ]
  },
  {
   "cell_type": "code",
   "execution_count": null,
   "id": "d4f16eb6-f49c-4bfa-a3da-abb528ee29a0",
   "metadata": {},
   "outputs": [],
   "source": [
    "variable = \"Hello my dharmendra\""
   ]
  },
  {
   "cell_type": "code",
   "execution_count": 3,
   "id": "1402e697-be1a-468a-9071-0c66f970330c",
   "metadata": {},
   "outputs": [
    {
     "data": {
      "text/plain": [
       "200"
      ]
     },
     "execution_count": 3,
     "metadata": {},
     "output_type": "execute_result"
    }
   ],
   "source": [
    "number1 = 200\n",
    "number1"
   ]
  },
  {
   "cell_type": "code",
   "execution_count": 7,
   "id": "692855e1-2271-48c4-a9ea-0688137ed991",
   "metadata": {},
   "outputs": [
    {
     "data": {
      "text/plain": [
       "1000"
      ]
     },
     "execution_count": 7,
     "metadata": {},
     "output_type": "execute_result"
    }
   ],
   "source": [
    "dharmendra = 1000\n",
    "# 1000 is stored in variable named called 'dharmendra'\n",
    "dharmendra"
   ]
  },
  {
   "cell_type": "code",
   "execution_count": 9,
   "id": "59cc6c51-1e66-43a6-b922-d945b94b57c1",
   "metadata": {},
   "outputs": [
    {
     "data": {
      "text/plain": [
       "1000"
      ]
     },
     "execution_count": 9,
     "metadata": {},
     "output_type": "execute_result"
    }
   ],
   "source": [
    "dharmendra"
   ]
  },
  {
   "cell_type": "code",
   "execution_count": 11,
   "id": "86ed93d9-4998-4df0-9a6c-487990d7133f",
   "metadata": {},
   "outputs": [],
   "source": [
    "NUMBER = 200\n"
   ]
  },
  {
   "cell_type": "code",
   "execution_count": 13,
   "id": "a2686752-a906-4844-a131-202fc4d3c948",
   "metadata": {},
   "outputs": [
    {
     "data": {
      "text/plain": [
       "200"
      ]
     },
     "execution_count": 13,
     "metadata": {},
     "output_type": "execute_result"
    }
   ],
   "source": [
    "NUMBER"
   ]
  },
  {
   "cell_type": "code",
   "execution_count": 15,
   "id": "5058fe19-7bdb-4f6b-b83f-e7351e6e6352",
   "metadata": {},
   "outputs": [],
   "source": [
    "NUmber = 499"
   ]
  },
  {
   "cell_type": "code",
   "execution_count": 17,
   "id": "09e54ae9-82ae-4cf0-bbfc-9025384189be",
   "metadata": {},
   "outputs": [
    {
     "data": {
      "text/plain": [
       "499"
      ]
     },
     "execution_count": 17,
     "metadata": {},
     "output_type": "execute_result"
    }
   ],
   "source": [
    "NUmber"
   ]
  },
  {
   "cell_type": "code",
   "execution_count": 19,
   "id": "88055900-d3be-4f97-a20f-c8cb2b7be1a5",
   "metadata": {},
   "outputs": [
    {
     "data": {
      "text/plain": [
       "849"
      ]
     },
     "execution_count": 19,
     "metadata": {},
     "output_type": "execute_result"
    }
   ],
   "source": [
    "number123 = 849\n",
    "number123"
   ]
  },
  {
   "cell_type": "code",
   "execution_count": 21,
   "id": "b0b70b8f-6a9c-4c08-85e1-24309a73fdf1",
   "metadata": {},
   "outputs": [
    {
     "data": {
      "text/plain": [
       "849"
      ]
     },
     "execution_count": 21,
     "metadata": {},
     "output_type": "execute_result"
    }
   ],
   "source": [
    "number123"
   ]
  },
  {
   "cell_type": "code",
   "execution_count": 25,
   "id": "546c828d-0537-4b56-b66d-c6e51276b279",
   "metadata": {},
   "outputs": [
    {
     "ename": "SyntaxError",
     "evalue": "invalid decimal literal (2735389864.py, line 1)",
     "output_type": "error",
     "traceback": [
      "\u001b[1;36m  Cell \u001b[1;32mIn[25], line 1\u001b[1;36m\u001b[0m\n\u001b[1;33m    123number=502\u001b[0m\n\u001b[1;37m      ^\u001b[0m\n\u001b[1;31mSyntaxError\u001b[0m\u001b[1;31m:\u001b[0m invalid decimal literal\n"
     ]
    }
   ],
   "source": [
    "123number=502\n",
    "# variable should not start with 'number' and special character \n",
    "#except underscore'_\n",
    "'"
   ]
  },
  {
   "cell_type": "code",
   "execution_count": 27,
   "id": "d8cb9a2d-2b0e-469a-99aa-659520f1be6f",
   "metadata": {},
   "outputs": [
    {
     "ename": "SyntaxError",
     "evalue": "invalid syntax. Maybe you meant '==' or ':=' instead of '='? (2717587555.py, line 1)",
     "output_type": "error",
     "traceback": [
      "\u001b[1;36m  Cell \u001b[1;32mIn[27], line 1\u001b[1;36m\u001b[0m\n\u001b[1;33m    @number=309\u001b[0m\n\u001b[1;37m     ^\u001b[0m\n\u001b[1;31mSyntaxError\u001b[0m\u001b[1;31m:\u001b[0m invalid syntax. Maybe you meant '==' or ':=' instead of '='?\n"
     ]
    }
   ],
   "source": [
    "@number=309\n"
   ]
  },
  {
   "cell_type": "code",
   "execution_count": 29,
   "id": "7616b08b-87aa-4569-b37c-1c7b83d9e3f4",
   "metadata": {},
   "outputs": [],
   "source": [
    "_num_=389"
   ]
  },
  {
   "cell_type": "code",
   "execution_count": 31,
   "id": "26671817-303b-438b-ba15-cc2bfafc6e89",
   "metadata": {},
   "outputs": [
    {
     "data": {
      "text/plain": [
       "389"
      ]
     },
     "execution_count": 31,
     "metadata": {},
     "output_type": "execute_result"
    }
   ],
   "source": [
    "_num_"
   ]
  },
  {
   "cell_type": "markdown",
   "id": "eea55237-33e5-4fcb-a931-4b516766db8e",
   "metadata": {},
   "source": [
    "#variable can have only underscore either in prefix or surfix or middle of variable"
   ]
  },
  {
   "cell_type": "markdown",
   "id": "a6ad1363-4a94-4120-a476-7f5918ee7d68",
   "metadata": {},
   "source": [
    "- variables are case sensitive\n",
    "- variables can represented as capital letters\n",
    "- variables can represented as small letters\n",
    "- variables can have both capital + small\n",
    "- python takes latest update values\n",
    "- variables does nnot with nymber\n",
    "- variables does not considered number(0,1,2,...) or special characters (!,@,#,...) or space\n",
    "- except underscore (_)\n",
    "- variable does not take space between in variable_name or start or end\n",
    "- keywords or reserved word does not considered as variables (if,else, lambda ,........)"
   ]
  },
  {
   "cell_type": "code",
   "execution_count": 38,
   "id": "19118575-4b22-4157-868f-30d7de30c5d8",
   "metadata": {},
   "outputs": [],
   "source": [
    "whole = 0"
   ]
  },
  {
   "cell_type": "code",
   "execution_count": 40,
   "id": "316c886e-e23b-43b8-b7c4-cac185f4b59e",
   "metadata": {},
   "outputs": [],
   "source": [
    "WHOLE = 8392"
   ]
  },
  {
   "cell_type": "code",
   "execution_count": 42,
   "id": "edbb98aa-23b2-4a15-9232-c6d2c2203fd7",
   "metadata": {},
   "outputs": [],
   "source": [
    "WHOle=39"
   ]
  },
  {
   "cell_type": "code",
   "execution_count": 44,
   "id": "168cf35f-6baa-4f8c-9a3e-94a094b7c83c",
   "metadata": {},
   "outputs": [],
   "source": [
    "whole123 =2817"
   ]
  },
  {
   "cell_type": "code",
   "execution_count": 46,
   "id": "c085475e-ceb7-4b78-ad3d-9c87e8ac7f96",
   "metadata": {},
   "outputs": [],
   "source": [
    "WHole123=39481"
   ]
  },
  {
   "cell_type": "code",
   "execution_count": 48,
   "id": "6b257521-19f2-4e9c-82b6-3c133a3fd1e7",
   "metadata": {},
   "outputs": [],
   "source": [
    "whole398_one=392381"
   ]
  },
  {
   "cell_type": "code",
   "execution_count": 50,
   "id": "f5d8d37c-1620-4982-bb15-d1b067769126",
   "metadata": {},
   "outputs": [],
   "source": [
    "_si_38 =438"
   ]
  },
  {
   "cell_type": "markdown",
   "id": "b3768531-4882-4f29-86f9-8d3e6bf68e2c",
   "metadata": {},
   "source": [
    "# list of errors in variable "
   ]
  },
  {
   "cell_type": "code",
   "execution_count": 57,
   "id": "e0ea8483-4164-4d7d-9df2-50ff12619f5e",
   "metadata": {},
   "outputs": [
    {
     "ename": "SyntaxError",
     "evalue": "invalid decimal literal (4285883911.py, line 1)",
     "output_type": "error",
     "traceback": [
      "\u001b[1;36m  Cell \u001b[1;32mIn[57], line 1\u001b[1;36m\u001b[0m\n\u001b[1;33m    13ear = 39\u001b[0m\n\u001b[1;37m     ^\u001b[0m\n\u001b[1;31mSyntaxError\u001b[0m\u001b[1;31m:\u001b[0m invalid decimal literal\n"
     ]
    }
   ],
   "source": [
    "13ear = 39"
   ]
  },
  {
   "cell_type": "code",
   "execution_count": 59,
   "id": "8788549c-51ac-466c-b005-62bad53b7033",
   "metadata": {},
   "outputs": [
    {
     "name": "stderr",
     "output_type": "stream",
     "text": [
      "UsageError: Cell magic `%%ear%%` not found.\n"
     ]
    }
   ],
   "source": [
    "%%ear%% = 73"
   ]
  },
  {
   "cell_type": "code",
   "execution_count": 61,
   "id": "75af718e-d87e-4505-88e5-cb5cbff5f501",
   "metadata": {},
   "outputs": [
    {
     "ename": "SyntaxError",
     "evalue": "invalid syntax (2318826560.py, line 1)",
     "output_type": "error",
     "traceback": [
      "\u001b[1;36m  Cell \u001b[1;32mIn[61], line 1\u001b[1;36m\u001b[0m\n\u001b[1;33m    covid&% = 374\u001b[0m\n\u001b[1;37m          ^\u001b[0m\n\u001b[1;31mSyntaxError\u001b[0m\u001b[1;31m:\u001b[0m invalid syntax\n"
     ]
    }
   ],
   "source": [
    "covid&% = 374"
   ]
  },
  {
   "cell_type": "code",
   "execution_count": 63,
   "id": "423c7d84-c41c-4b84-ad6f-38d0a70a7aba",
   "metadata": {},
   "outputs": [
    {
     "ename": "SyntaxError",
     "evalue": "invalid syntax (3158242092.py, line 1)",
     "output_type": "error",
     "traceback": [
      "\u001b[1;36m  Cell \u001b[1;32mIn[63], line 1\u001b[1;36m\u001b[0m\n\u001b[1;33m    ^sh_38\u001b[0m\n\u001b[1;37m    ^\u001b[0m\n\u001b[1;31mSyntaxError\u001b[0m\u001b[1;31m:\u001b[0m invalid syntax\n"
     ]
    }
   ],
   "source": [
    "^sh_38"
   ]
  },
  {
   "cell_type": "code",
   "execution_count": 3,
   "id": "d9bbaa77-fd28-4a23-8b9c-73b5344f1fbe",
   "metadata": {},
   "outputs": [
    {
     "ename": "SyntaxError",
     "evalue": "invalid syntax (810175385.py, line 1)",
     "output_type": "error",
     "traceback": [
      "\u001b[1;36m  Cell \u001b[1;32mIn[3], line 1\u001b[1;36m\u001b[0m\n\u001b[1;33m    s j=38\u001b[0m\n\u001b[1;37m      ^\u001b[0m\n\u001b[1;31mSyntaxError\u001b[0m\u001b[1;31m:\u001b[0m invalid syntax\n"
     ]
    }
   ],
   "source": [
    "s j=38"
   ]
  },
  {
   "cell_type": "code",
   "execution_count": null,
   "id": "63d9e62a-dcd2-44af-a76c-8a9d1edd0587",
   "metadata": {},
   "outputs": [],
   "source": []
  }
 ],
 "metadata": {
  "kernelspec": {
   "display_name": "Python 3 (ipykernel)",
   "language": "python",
   "name": "python3"
  },
  "language_info": {
   "codemirror_mode": {
    "name": "ipython",
    "version": 3
   },
   "file_extension": ".py",
   "mimetype": "text/x-python",
   "name": "python",
   "nbconvert_exporter": "python",
   "pygments_lexer": "ipython3",
   "version": "3.12.4"
  }
 },
 "nbformat": 4,
 "nbformat_minor": 5
}
