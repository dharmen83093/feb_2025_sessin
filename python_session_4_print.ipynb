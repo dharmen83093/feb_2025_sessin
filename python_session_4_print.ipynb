{
 "cells": [
  {
   "cell_type": "markdown",
   "id": "88c8a02b-c9c7-4ed5-adc1-0e077927825d",
   "metadata": {},
   "source": [
    "# Print Statements "
   ]
  },
  {
   "cell_type": "markdown",
   "id": "e5af4c9e-3571-4754-a069-c3d32448f4ca",
   "metadata": {},
   "source": [
    "- print is a inbuilt function, to see the answers\n",
    "- in jupyter notebook we can ssee latest value with out using print\n",
    "- if you want to see all the values we need to use print\n",
    "- In VScode, pycharm there is no markdown option\n",
    "- if you want to see any answer, we need to use print statement"
   ]
  },
  {
   "cell_type": "code",
   "execution_count": 6,
   "id": "dde6ee1c-9a8c-4efc-a0a4-6e2764252381",
   "metadata": {},
   "outputs": [
    {
     "data": {
      "text/plain": [
       "200"
      ]
     },
     "execution_count": 6,
     "metadata": {},
     "output_type": "execute_result"
    }
   ],
   "source": [
    "num1=100\n",
    "num2=200\n",
    "num1\n",
    "num2"
   ]
  },
  {
   "cell_type": "code",
   "execution_count": 10,
   "id": "4bf28c5a-8d8e-4d01-b8c1-8176eac3acdd",
   "metadata": {},
   "outputs": [
    {
     "name": "stdout",
     "output_type": "stream",
     "text": [
      "100\n",
      "200\n"
     ]
    }
   ],
   "source": [
    "num1=100\n",
    "num2=200\n",
    "print(num1)\n",
    "print(num2)"
   ]
  },
  {
   "cell_type": "code",
   "execution_count": 18,
   "id": "d23c38b1-4e0b-42b6-bcd3-a749ea609ece",
   "metadata": {},
   "outputs": [
    {
     "name": "stdout",
     "output_type": "stream",
     "text": [
      "100 200\n",
      "10 20 30\n",
      "Dharmendra\n",
      "Dharmendra is a person\n",
      "Dharmendra is a person 100 200 10 20 30\n"
     ]
    }
   ],
   "source": [
    "num1=100\n",
    "num2=200\n",
    "print(num1,num2)\n",
    "print(10,20,30)\n",
    "print('Dharmendra')\n",
    "print('Dharmendra','is a person')\n",
    "print('Dharmendra','is a person',num1,num2,10,20,30)"
   ]
  },
  {
   "cell_type": "code",
   "execution_count": 30,
   "id": "38af7e46-8344-42c1-979d-6183fb41f4e4",
   "metadata": {},
   "outputs": [
    {
     "name": "stdout",
     "output_type": "stream",
     "text": [
      "the addition of 10 and 20 is  30\n",
      "the addition of a and b is c\n",
      "the additon of 10 and 20 is 30\n",
      "The 'addition' of  10 and 20 is 30\n"
     ]
    }
   ],
   "source": [
    "a=10\n",
    "b=20\n",
    "c=a+b\n",
    "c\n",
    "print(\"the addition of 10 and 20 is \",  c)\n",
    "print(\"the addition of a and b is c\")\n",
    "print(\"the additon of 10 and 20 is 30\")\n",
    "print(\"The 'addition' of \",a,'and', b ,'is', c)"
   ]
  },
  {
   "cell_type": "code",
   "execution_count": 35,
   "id": "d6270217-1f21-48e3-9f11-1c22debec040",
   "metadata": {},
   "outputs": [
    {
     "name": "stdout",
     "output_type": "stream",
     "text": [
      "my name is Dharmendra i am 26 years old and came from hyderabad\n"
     ]
    }
   ],
   "source": [
    "name='Dharmendra'\n",
    "city='hyderabad'\n",
    "age=26\n",
    "print('my name is', name ,'i am', age, 'years old and came from', city)"
   ]
  },
  {
   "cell_type": "markdown",
   "id": "bf289dd2-71f4-4fe8-9ab3-c6d45be83021",
   "metadata": {},
   "source": [
    "# FORMAT METHOD "
   ]
  },
  {
   "cell_type": "code",
   "execution_count": 37,
   "id": "62bcf04b-4273-45cb-a68f-19836dc83b8a",
   "metadata": {},
   "outputs": [
    {
     "name": "stdout",
     "output_type": "stream",
     "text": [
      "the addition of 10,20 is 30\n",
      " the additon of {},{} is {}\n",
      " the additon of 10,20 is 30\n"
     ]
    }
   ],
   "source": [
    "a=10\n",
    "b=20\n",
    "c=a+b\n",
    "#how you want to write the print\n",
    "# the addition of 10, 20 is 30\n",
    "print(\"the addition of 10,20 is 30\")\n",
    "print(\" the additon of {},{} is {}\")\n",
    "print(\" the additon of {},{} is {}\".format(a,b,c))"
   ]
  },
  {
   "cell_type": "code",
   "execution_count": 39,
   "id": "d8006793-bd42-4e98-b8d5-a6d75aa5b8a5",
   "metadata": {},
   "outputs": [
    {
     "name": "stdout",
     "output_type": "stream",
     "text": [
      "my name is Dharmendra i am 25 years old and came from hyderabad\n"
     ]
    }
   ],
   "source": [
    "name='Dharmendra'\n",
    "city='hyderabad'\n",
    "age=25\n",
    "print('my name is {} i am {} years old and came from {}'.format(name,age,city))"
   ]
  },
  {
   "cell_type": "code",
   "execution_count": 41,
   "id": "4f2bf63a-d7da-442c-9462-7b39f79f446b",
   "metadata": {},
   "outputs": [
    {
     "name": "stdout",
     "output_type": "stream",
     "text": [
      "the additon of 28 and 83 is 111\n",
      "the sub of 28 and 83 is -55\n",
      "the mul of 28 and 83 is 2324\n",
      "the div of 28 and 83 is 0.3373493975903614\n"
     ]
    }
   ],
   "source": [
    "# take two numbers\n",
    "#add\n",
    "#sub\n",
    "#mul\n",
    "#div\n",
    "num1=28\n",
    "num2=83\n",
    "addition=num1+num2\n",
    "substration=num1-num2\n",
    "multiplication=num1*num2\n",
    "divsion=num1/num2\n",
    "print(\"the additon of {} and {} is {}\".format(num1,num2,addition))\n",
    "print(\"the sub of {} and {} is {}\".format(num1,num2,substration))\n",
    "print(\"the mul of {} and {} is {}\".format(num1,num2,multiplication))\n",
    "print(\"the div of {} and {} is {}\".format(num1,num2,divsion))"
   ]
  },
  {
   "cell_type": "markdown",
   "id": "120b1c96-2332-4d84-87cf-0441bf02ea01",
   "metadata": {},
   "source": [
    "# F - string Method"
   ]
  },
  {
   "cell_type": "code",
   "execution_count": 45,
   "id": "d21b8df9-2836-4547-8dbf-472d8de4dfda",
   "metadata": {},
   "outputs": [
    {
     "name": "stdout",
     "output_type": "stream",
     "text": [
      "the addition of 10,20 is 30\n",
      " the additon of {},{} is {}\n",
      " the additon of {a},{b} is {c}\n",
      " the additon of 10,20 is 30\n"
     ]
    }
   ],
   "source": [
    "a=10\n",
    "b=20\n",
    "c=a+b\n",
    "#how you want to write the print\n",
    "# the addition of 10, 20 is 30\n",
    "print(\"the addition of 10,20 is 30\")\n",
    "print(\" the additon of {},{} is {}\")\n",
    "print(\" the additon of {a},{b} is {c}\")\n",
    "print(f\" the additon of {a},{b} is {c}\")"
   ]
  },
  {
   "cell_type": "code",
   "execution_count": 47,
   "id": "75887f5e-7b79-4008-95fc-d04e311c7d7d",
   "metadata": {},
   "outputs": [
    {
     "name": "stdout",
     "output_type": "stream",
     "text": [
      "my name is Dharmendra i am 25 years old and came from hyderabad\n"
     ]
    }
   ],
   "source": [
    "name='Dharmendra'\n",
    "city='hyderabad'\n",
    "age=25\n",
    "print(f'my name is {name} i am {age} years old and came from {city}')"
   ]
  },
  {
   "cell_type": "code",
   "execution_count": 53,
   "id": "5bd9e5a0-91d1-4cf2-aa44-5a61713441fd",
   "metadata": {},
   "outputs": [
    {
     "name": "stdout",
     "output_type": "stream",
     "text": [
      "the additon of 28 and 83 is 111\n",
      "the sub of 28 and 83 is -55\n",
      "the mul of 28 and 83 is 2324\n",
      "the div of 28 and 83 is 0.3373493975903614\n",
      "the addition is 111,the substration is -55,the mul is 2324,the div is 0.3373493975903614\n"
     ]
    }
   ],
   "source": [
    "num1=28\n",
    "num2=83\n",
    "addition=num1+num2\n",
    "substration=num1-num2\n",
    "multiplication=num1*num2\n",
    "divsion=num1/num2\n",
    "print(f\"the additon of {num1} and {num2} is {addition}\")\n",
    "print(f\"the sub of {num1} and {num2} is {substration}\")\n",
    "print(f\"the mul of {num1} and {num2} is {multiplication}\")\n",
    "print(f\"the div of {num1} and {num2} is {divsion}\")\n",
    "print(f'the addition is {addition},the substration is {substration},the mul is {multiplication},the div is {divsion}')"
   ]
  },
  {
   "cell_type": "code",
   "execution_count": 55,
   "id": "9fdb672e-04de-42f0-a52a-7ebbf2930581",
   "metadata": {},
   "outputs": [
    {
     "name": "stdout",
     "output_type": "stream",
     "text": [
      "10\n",
      "20\n"
     ]
    }
   ],
   "source": [
    "print(10)\n",
    "print(20)\n",
    "# using two print statements\n",
    "#we need to write 10,20"
   ]
  },
  {
   "cell_type": "markdown",
   "id": "814f41d1-7298-4df2-87d3-02d598e473b6",
   "metadata": {},
   "source": [
    "**end**"
   ]
  },
  {
   "cell_type": "code",
   "execution_count": 60,
   "id": "123d1bba-5bae-4bf3-8a92-820fff740c15",
   "metadata": {},
   "outputs": [
    {
     "name": "stdout",
     "output_type": "stream",
     "text": [
      "10\n",
      "20\n",
      "10<>20\n"
     ]
    }
   ],
   "source": [
    "print(10)\n",
    "print(20)\n",
    "# using two print statements\n",
    "#we need to write 10,20\n",
    "print(10, end='<>')\n",
    "print(20)"
   ]
  },
  {
   "cell_type": "code",
   "execution_count": 62,
   "id": "9d658f5b-b3f2-4f10-b8ed-a2d1fce10047",
   "metadata": {},
   "outputs": [
    {
     "name": "stdout",
     "output_type": "stream",
     "text": [
      "10\n"
     ]
    }
   ],
   "source": [
    "print(10)"
   ]
  },
  {
   "cell_type": "code",
   "execution_count": 64,
   "id": "01a1a2f3-9244-4507-a18b-64b36334533f",
   "metadata": {},
   "outputs": [
    {
     "name": "stdout",
     "output_type": "stream",
     "text": [
      "10 20.30\n"
     ]
    }
   ],
   "source": [
    "print(10,end=' ')\n",
    "print(20,end='.')\n",
    "print(30)"
   ]
  },
  {
   "cell_type": "markdown",
   "id": "beea0a8d-fc83-4368-b2db-d06644a0214f",
   "metadata": {},
   "source": [
    "**seperator**"
   ]
  },
  {
   "cell_type": "code",
   "execution_count": 67,
   "id": "5089a9de-ba28-48b6-85af-ec36dcd177d0",
   "metadata": {},
   "outputs": [
    {
     "name": "stdout",
     "output_type": "stream",
     "text": [
      "10-->20-->30\n",
      "10*20*30\n"
     ]
    }
   ],
   "source": [
    "#using one print statement\n",
    "# 10-->20-->30\n",
    "# print(10,'-->',20,'-->')\n",
    "\n",
    "# Seperating the all values inside print statements\n",
    "print(10,20,30,sep='-->')\n",
    "print(10,20,30,sep='*')"
   ]
  },
  {
   "cell_type": "code",
   "execution_count": 73,
   "id": "278dc919-6be4-4882-bf3c-c52929d19876",
   "metadata": {},
   "outputs": [
    {
     "name": "stdout",
     "output_type": "stream",
     "text": [
      "10+20=30\n",
      "30 .\n",
      "30.\n"
     ]
    }
   ],
   "source": [
    "# 10+20=30\n",
    "print(10,end='+')\n",
    "print(20,end='=')\n",
    "print(30)\n",
    "print(30,'.')\n",
    "print(30,'.',sep='')"
   ]
  },
  {
   "cell_type": "code",
   "execution_count": 79,
   "id": "663c80be-929c-461b-8e5f-7143247c3072",
   "metadata": {},
   "outputs": [
    {
     "name": "stdout",
     "output_type": "stream",
     "text": [
      "10+20=30\n"
     ]
    }
   ],
   "source": [
    "print(10,20,sep='+',end='=')\n",
    "print(30)"
   ]
  },
  {
   "cell_type": "code",
   "execution_count": null,
   "id": "5f7e23db-1042-4b6a-9389-de58f8305021",
   "metadata": {},
   "outputs": [],
   "source": []
  }
 ],
 "metadata": {
  "kernelspec": {
   "display_name": "Python 3 (ipykernel)",
   "language": "python",
   "name": "python3"
  },
  "language_info": {
   "codemirror_mode": {
    "name": "ipython",
    "version": 3
   },
   "file_extension": ".py",
   "mimetype": "text/x-python",
   "name": "python",
   "nbconvert_exporter": "python",
   "pygments_lexer": "ipython3",
   "version": "3.12.4"
  }
 },
 "nbformat": 4,
 "nbformat_minor": 5
}
