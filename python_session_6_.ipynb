{
 "cells": [
  {
   "cell_type": "markdown",
   "id": "368f2813-d759-46dd-8fd7-5e197eddb029",
   "metadata": {},
   "source": [
    "**name error**\n",
    "\n",
    "- variable not defined\n",
    "- variable is in black color\n",
    "- string is in red color\n",
    "- keywords are in green color"
   ]
  },
  {
   "cell_type": "markdown",
   "id": "feb189af-0a91-441b-b20d-e1230ebde9e0",
   "metadata": {},
   "source": [
    "**input**"
   ]
  },
  {
   "cell_type": "markdown",
   "id": "e2d627d0-fbcf-495a-9027-9b8d122a4746",
   "metadata": {},
   "source": [
    "- we can take the values directly in python code\n",
    "  - ex: num=10\n",
    "- we can take the values from user like from keyword\n",
    "- imagine there is application form we need to fill\n",
    "- in the application form name: Square box will appear\n",
    "- you need to enter your name\n",
    "- This is achieved by a keyword **input**"
   ]
  },
  {
   "cell_type": "code",
   "execution_count": 7,
   "id": "f2d85d78-5725-4f31-a884-33d6b9a06e64",
   "metadata": {},
   "outputs": [
    {
     "name": "stdin",
     "output_type": "stream",
     "text": [
      " Dharmendra\n"
     ]
    },
    {
     "data": {
      "text/plain": [
       "'Dharmendra'"
      ]
     },
     "execution_count": 7,
     "metadata": {},
     "output_type": "execute_result"
    }
   ],
   "source": [
    "input()"
   ]
  },
  {
   "cell_type": "markdown",
   "id": "7ca24c07-1ed6-4972-b307-9e286296e960",
   "metadata": {},
   "source": [
    "- when we type input()\n",
    "- a square box will appear\n",
    "- you need to observe 3 things\n",
    "  - square box\n",
    "  - * mark inside square brackets that is before the code cell\n",
    "  - python kernel is black color\n",
    "- * mark and black color means kernel is busy\n",
    "- first fill the box with some value\n",
    "- then do enter"
   ]
  },
  {
   "cell_type": "code",
   "execution_count": 10,
   "id": "926391de-b926-4d48-95f7-b245b276c751",
   "metadata": {},
   "outputs": [
    {
     "name": "stdin",
     "output_type": "stream",
     "text": [
      " Dharmendra\n"
     ]
    },
    {
     "data": {
      "text/plain": [
       "'Dharmendra'"
      ]
     },
     "execution_count": 10,
     "metadata": {},
     "output_type": "execute_result"
    }
   ],
   "source": [
    "input()"
   ]
  },
  {
   "cell_type": "code",
   "execution_count": 12,
   "id": "1faa3b5c-fdb3-43cc-8c1d-3a90cbfefcde",
   "metadata": {},
   "outputs": [
    {
     "name": "stdin",
     "output_type": "stream",
     "text": [
      " 100\n"
     ]
    },
    {
     "data": {
      "text/plain": [
       "'100'"
      ]
     },
     "execution_count": 12,
     "metadata": {},
     "output_type": "execute_result"
    }
   ],
   "source": [
    "input()"
   ]
  },
  {
   "cell_type": "code",
   "execution_count": 14,
   "id": "ef02c943-fe1d-46c9-9552-422d62fd5281",
   "metadata": {},
   "outputs": [
    {
     "name": "stdin",
     "output_type": "stream",
     "text": [
      " 100 abc True\n"
     ]
    },
    {
     "data": {
      "text/plain": [
       "'100 abc True'"
      ]
     },
     "execution_count": 14,
     "metadata": {},
     "output_type": "execute_result"
    }
   ],
   "source": [
    "input()"
   ]
  },
  {
   "cell_type": "markdown",
   "id": "c0065586-0529-40d9-8587-3628c4166a69",
   "metadata": {},
   "source": [
    "**Note**\n",
    "- whatever we type in square brackets, the output display in quotes\n",
    "- the output default type is string type"
   ]
  },
  {
   "cell_type": "code",
   "execution_count": 19,
   "id": "9d2a31f8-c901-4981-bd76-f2588972ff06",
   "metadata": {},
   "outputs": [
    {
     "name": "stdin",
     "output_type": "stream",
     "text": [
      " dharmendra\n",
      " is a \n",
      " data scientists\n"
     ]
    },
    {
     "data": {
      "text/plain": [
       "'data scientists'"
      ]
     },
     "execution_count": 19,
     "metadata": {},
     "output_type": "execute_result"
    }
   ],
   "source": [
    "input()\n",
    "input()\n",
    "input()"
   ]
  },
  {
   "cell_type": "code",
   "execution_count": 21,
   "id": "f55cf9b3-892f-4a47-998f-67557dfcbfbe",
   "metadata": {},
   "outputs": [
    {
     "name": "stdin",
     "output_type": "stream",
     "text": [
      " dharmendra\n",
      " 100\n",
      " data science\n"
     ]
    },
    {
     "data": {
      "text/plain": [
       "'data science'"
      ]
     },
     "execution_count": 21,
     "metadata": {},
     "output_type": "execute_result"
    }
   ],
   "source": [
    "input()\n",
    "input()\n",
    "input()"
   ]
  },
  {
   "cell_type": "code",
   "execution_count": 23,
   "id": "0e396d6b-06d7-4e6b-a24f-aaf009ee3db5",
   "metadata": {},
   "outputs": [
    {
     "name": "stdin",
     "output_type": "stream",
     "text": [
      " dharmendra\n"
     ]
    },
    {
     "name": "stdout",
     "output_type": "stream",
     "text": [
      "dharmendra\n"
     ]
    }
   ],
   "source": [
    "print(input())"
   ]
  },
  {
   "cell_type": "code",
   "execution_count": 25,
   "id": "9f9bf5ff-a3a6-48cc-af35-03f118bd14cc",
   "metadata": {},
   "outputs": [
    {
     "name": "stdin",
     "output_type": "stream",
     "text": [
      " dharmendra\n"
     ]
    },
    {
     "name": "stdout",
     "output_type": "stream",
     "text": [
      "dharmendra\n"
     ]
    },
    {
     "name": "stdin",
     "output_type": "stream",
     "text": [
      " is a data\n"
     ]
    },
    {
     "name": "stdout",
     "output_type": "stream",
     "text": [
      "is a data\n"
     ]
    },
    {
     "name": "stdin",
     "output_type": "stream",
     "text": [
      " science\n"
     ]
    },
    {
     "name": "stdout",
     "output_type": "stream",
     "text": [
      "science\n"
     ]
    }
   ],
   "source": [
    "print(input())\n",
    "print(input())\n",
    "print(input())"
   ]
  },
  {
   "cell_type": "code",
   "execution_count": 27,
   "id": "757b31d6-2439-4bed-9fd6-2a481fce2afc",
   "metadata": {},
   "outputs": [
    {
     "name": "stdin",
     "output_type": "stream",
     "text": [
      " dharmendra\n"
     ]
    },
    {
     "ename": "ValueError",
     "evalue": "invalid literal for int() with base 10: 'dharmendra'",
     "output_type": "error",
     "traceback": [
      "\u001b[1;31m------------------------------------------------------------------------\u001b[0m",
      "\u001b[1;31mValueError\u001b[0m                             Traceback (most recent call last)",
      "Cell \u001b[1;32mIn[27], line 1\u001b[0m\n\u001b[1;32m----> 1\u001b[0m \u001b[38;5;28mint\u001b[39m(\u001b[38;5;28minput\u001b[39m())\n",
      "\u001b[1;31mValueError\u001b[0m: invalid literal for int() with base 10: 'dharmendra'"
     ]
    }
   ],
   "source": [
    "int(input())"
   ]
  },
  {
   "cell_type": "code",
   "execution_count": 29,
   "id": "c326222f-e476-4517-b827-05cee4c45cb1",
   "metadata": {},
   "outputs": [
    {
     "name": "stdin",
     "output_type": "stream",
     "text": [
      " 38\n"
     ]
    },
    {
     "data": {
      "text/plain": [
       "38"
      ]
     },
     "execution_count": 29,
     "metadata": {},
     "output_type": "execute_result"
    }
   ],
   "source": [
    "int(input())"
   ]
  },
  {
   "cell_type": "code",
   "execution_count": 31,
   "id": "8b6782a1-eb83-49a0-8508-2c046f071357",
   "metadata": {},
   "outputs": [
    {
     "name": "stdin",
     "output_type": "stream",
     "text": [
      " dharmendra\n"
     ]
    },
    {
     "data": {
      "text/plain": [
       "'dharmendra'"
      ]
     },
     "execution_count": 31,
     "metadata": {},
     "output_type": "execute_result"
    }
   ],
   "source": [
    "str(input())"
   ]
  },
  {
   "cell_type": "code",
   "execution_count": 33,
   "id": "c0cef308-f13c-4e29-b88d-0493e5b0aae0",
   "metadata": {},
   "outputs": [
    {
     "name": "stdin",
     "output_type": "stream",
     "text": [
      "enter your name:  Dharmendra\n"
     ]
    },
    {
     "data": {
      "text/plain": [
       "'Dharmendra'"
      ]
     },
     "execution_count": 33,
     "metadata": {},
     "output_type": "execute_result"
    }
   ],
   "source": [
    "str(input(\"enter your name: \"))"
   ]
  },
  {
   "cell_type": "code",
   "execution_count": 35,
   "id": "585740e9-ecae-47c9-913e-7e75e510cb55",
   "metadata": {},
   "outputs": [
    {
     "name": "stdin",
     "output_type": "stream",
     "text": [
      "enter the username :  dharmendra\n",
      "password :  dharma\n"
     ]
    },
    {
     "ename": "ValueError",
     "evalue": "invalid literal for int() with base 10: 'dharma'",
     "output_type": "error",
     "traceback": [
      "\u001b[1;31m------------------------------------------------------------------------\u001b[0m",
      "\u001b[1;31mValueError\u001b[0m                             Traceback (most recent call last)",
      "Cell \u001b[1;32mIn[35], line 2\u001b[0m\n\u001b[0;32m      1\u001b[0m \u001b[38;5;28mstr\u001b[39m(\u001b[38;5;28minput\u001b[39m(\u001b[38;5;124m\"\u001b[39m\u001b[38;5;124menter the username : \u001b[39m\u001b[38;5;124m\"\u001b[39m))\n\u001b[1;32m----> 2\u001b[0m \u001b[38;5;28mint\u001b[39m(\u001b[38;5;28minput\u001b[39m(\u001b[38;5;124m\"\u001b[39m\u001b[38;5;124mpassword : \u001b[39m\u001b[38;5;124m\"\u001b[39m))\n",
      "\u001b[1;31mValueError\u001b[0m: invalid literal for int() with base 10: 'dharma'"
     ]
    }
   ],
   "source": [
    "str(input(\"enter the username : \"))\n",
    "int(input(\"password : \"))"
   ]
  },
  {
   "cell_type": "code",
   "execution_count": 37,
   "id": "665882a4-bdd1-4191-9a79-5b4a4bc6c803",
   "metadata": {},
   "outputs": [
    {
     "name": "stdin",
     "output_type": "stream",
     "text": [
      " 10\n",
      " 20\n"
     ]
    },
    {
     "name": "stdout",
     "output_type": "stream",
     "text": [
      "10\n",
      "20\n"
     ]
    }
   ],
   "source": [
    "a=input()\n",
    "b=input()\n",
    "print(a)\n",
    "print(b)"
   ]
  },
  {
   "cell_type": "code",
   "execution_count": 39,
   "id": "7d70e01a-ce0b-42aa-8ce2-d49e38c41cd5",
   "metadata": {},
   "outputs": [
    {
     "name": "stdin",
     "output_type": "stream",
     "text": [
      " 10\n",
      " 20\n"
     ]
    },
    {
     "name": "stdout",
     "output_type": "stream",
     "text": [
      "10\n",
      "20\n",
      "the value of a is: 10 and b is : 20\n"
     ]
    }
   ],
   "source": [
    "a=input()\n",
    "b=input()\n",
    "print(a)\n",
    "print(b)\n",
    "print(f'the value of a is: {a} and b is : {b}')"
   ]
  },
  {
   "cell_type": "code",
   "execution_count": 41,
   "id": "5e39709c-25e3-4c1e-ac9b-4f9cf791f295",
   "metadata": {},
   "outputs": [
    {
     "name": "stdin",
     "output_type": "stream",
     "text": [
      " dharmendra\n",
      " hyd\n",
      " india\n"
     ]
    },
    {
     "name": "stdout",
     "output_type": "stream",
     "text": [
      "dharmendra\n",
      "hyd\n",
      "india\n",
      "my name is : dharmendra and iam from hyd and country is india\n",
      "my name is dharmendra and i am from hyd and country is india\n"
     ]
    }
   ],
   "source": [
    "name=input() #the value of input stored in a variable called 'name'\n",
    "city=input()\n",
    "country=input()\n",
    "print(name)\n",
    "print(city)\n",
    "print(country)\n",
    "print(f\"my name is : {name} and iam from {city} and country is {country}\")\n",
    "print(\"my name is {} and i am from {} and country is {}\".format(name,city,country))\n"
   ]
  },
  {
   "cell_type": "code",
   "execution_count": 43,
   "id": "e8ac334b-3f4b-41ab-ae79-50f7d206811f",
   "metadata": {},
   "outputs": [
    {
     "name": "stdin",
     "output_type": "stream",
     "text": [
      " 10\n",
      "Enter the name dharmendra\n",
      "Enter the name: j\n",
      "enter the city: hyd\n",
      "enter okay\n"
     ]
    },
    {
     "data": {
      "text/plain": [
       "'okay'"
      ]
     },
     "execution_count": 43,
     "metadata": {},
     "output_type": "execute_result"
    }
   ],
   "source": [
    "input()\n",
    "input(\"Enter the name\")\n",
    "input(\"Enter the name:\")\n",
    "input(\"enter the city:\")\n",
    "input(\"enter\")"
   ]
  },
  {
   "cell_type": "code",
   "execution_count": 45,
   "id": "7e11b94b-7084-4f2e-937f-303cf39b7aa9",
   "metadata": {},
   "outputs": [
    {
     "name": "stdin",
     "output_type": "stream",
     "text": [
      "Enter the name: dharmendra\n",
      "Enter the city: hyd\n",
      "Enter the country: india\n"
     ]
    },
    {
     "name": "stdout",
     "output_type": "stream",
     "text": [
      "my name is : dharmendra and iam from hyd and country is india\n"
     ]
    },
    {
     "name": "stdin",
     "output_type": "stream",
     "text": [
      "Enter: done\n"
     ]
    },
    {
     "data": {
      "text/plain": [
       "'done'"
      ]
     },
     "execution_count": 45,
     "metadata": {},
     "output_type": "execute_result"
    }
   ],
   "source": [
    "name=input(\"Enter the name:\")\n",
    "city=input(\"Enter the city:\")\n",
    "country=input(\"Enter the country:\")\n",
    "print(f\"my name is : {name} and iam from {city} and country is {country}\")\n",
    "input(\"Enter:\")"
   ]
  },
  {
   "cell_type": "code",
   "execution_count": 51,
   "id": "360645ef-87d8-4df4-89dd-9d12166011e5",
   "metadata": {},
   "outputs": [
    {
     "name": "stdin",
     "output_type": "stream",
     "text": [
      "enter the number: 100\n",
      "enter the number: 200\n"
     ]
    },
    {
     "name": "stdout",
     "output_type": "stream",
     "text": [
      "the value of two numbers 100 and 200 is 100200\n"
     ]
    },
    {
     "name": "stdin",
     "output_type": "stream",
     "text": [
      "enter: done\n"
     ]
    },
    {
     "data": {
      "text/plain": [
       "'done'"
      ]
     },
     "execution_count": 51,
     "metadata": {},
     "output_type": "execute_result"
    }
   ],
   "source": [
    "# wap ask the user take two numbers\n",
    "# n1 and n2\n",
    "# add the two numbers\n",
    "n1=input(\"enter the number:\")\n",
    "n2=input(\"enter the number:\")\n",
    "n1+n2\n",
    "n3=n1+n2\n",
    "print(f\"the value of two numbers {n1} and {n2} is {n3}\")\n",
    "input(\"enter:\")"
   ]
  },
  {
   "cell_type": "code",
   "execution_count": 53,
   "id": "ed468325-a2fc-4f7e-82ee-e1c190307537",
   "metadata": {},
   "outputs": [
    {
     "name": "stdin",
     "output_type": "stream",
     "text": [
      "enter the number: 100\n",
      "enter the number: 200\n"
     ]
    },
    {
     "name": "stdout",
     "output_type": "stream",
     "text": [
      "the value of two numbers 100 and 200 is 300\n"
     ]
    },
    {
     "name": "stdin",
     "output_type": "stream",
     "text": [
      "enter: done\n"
     ]
    },
    {
     "data": {
      "text/plain": [
       "'done'"
      ]
     },
     "execution_count": 53,
     "metadata": {},
     "output_type": "execute_result"
    }
   ],
   "source": [
    "n1=int(input(\"enter the number:\"))\n",
    "n2=int(input(\"enter the number:\"))\n",
    "n1+n2\n",
    "n3=n1+n2\n",
    "print(f\"the value of two numbers {n1} and {n2} is {n3}\")\n",
    "input(\"enter:\")"
   ]
  },
  {
   "cell_type": "code",
   "execution_count": 59,
   "id": "5be16b7b-3529-4d83-a472-abd5329fabf3",
   "metadata": {},
   "outputs": [
    {
     "data": {
      "text/plain": [
       "'100200'"
      ]
     },
     "execution_count": 59,
     "metadata": {},
     "output_type": "execute_result"
    }
   ],
   "source": [
    "n1='100'\n",
    "n2='200'\n",
    "n1+n2"
   ]
  },
  {
   "cell_type": "code",
   "execution_count": 61,
   "id": "c934e7ae-4a20-43a5-a853-17a1c637919a",
   "metadata": {},
   "outputs": [
    {
     "data": {
      "text/plain": [
       "300"
      ]
     },
     "execution_count": 61,
     "metadata": {},
     "output_type": "execute_result"
    }
   ],
   "source": [
    "n1='100'\n",
    "n2='200'\n",
    "int(n1)+int(n2)"
   ]
  },
  {
   "cell_type": "code",
   "execution_count": 65,
   "id": "2e22a929-617b-4855-b991-d7288f769d4c",
   "metadata": {},
   "outputs": [
    {
     "data": {
      "text/plain": [
       "100200"
      ]
     },
     "execution_count": 65,
     "metadata": {},
     "output_type": "execute_result"
    }
   ],
   "source": [
    "n1='100'\n",
    "n2='200'\n",
    "int(n1+n2) # it is a wrong type"
   ]
  },
  {
   "cell_type": "code",
   "execution_count": 67,
   "id": "4e20fb6b-5c4d-4f3f-80df-83f8cba61d39",
   "metadata": {},
   "outputs": [
    {
     "name": "stdin",
     "output_type": "stream",
     "text": [
      "Enter the values1: 100\n",
      "enter the values2: 200.25\n"
     ]
    },
    {
     "ename": "ValueError",
     "evalue": "invalid literal for int() with base 10: '200.25'",
     "output_type": "error",
     "traceback": [
      "\u001b[1;31m------------------------------------------------------------------------\u001b[0m",
      "\u001b[1;31mValueError\u001b[0m                             Traceback (most recent call last)",
      "Cell \u001b[1;32mIn[67], line 2\u001b[0m\n\u001b[0;32m      1\u001b[0m n1\u001b[38;5;241m=\u001b[39m\u001b[38;5;28mint\u001b[39m(\u001b[38;5;28minput\u001b[39m(\u001b[38;5;124m\"\u001b[39m\u001b[38;5;124mEnter the values1:\u001b[39m\u001b[38;5;124m\"\u001b[39m))\n\u001b[1;32m----> 2\u001b[0m n2\u001b[38;5;241m=\u001b[39m\u001b[38;5;28mint\u001b[39m(\u001b[38;5;28minput\u001b[39m(\u001b[38;5;124m\"\u001b[39m\u001b[38;5;124menter the values2:\u001b[39m\u001b[38;5;124m\"\u001b[39m))\n\u001b[0;32m      3\u001b[0m n1\u001b[38;5;241m+\u001b[39mn2\n",
      "\u001b[1;31mValueError\u001b[0m: invalid literal for int() with base 10: '200.25'"
     ]
    }
   ],
   "source": [
    "n1=int(input(\"Enter the values1:\"))\n",
    "n2=float(input(\"enter the values2:\"))\n",
    "n1+n2"
   ]
  },
  {
   "cell_type": "markdown",
   "id": "221e1ea3-0790-4809-b3db-968a1fb63aa5",
   "metadata": {},
   "source": [
    "**Eval**\n",
    "- whenever you listen eval : evaluate\n",
    "- evaluate is belongs to math family\n",
    "- It will convert integer value to the integer\n",
    "- It will convert float value to the float only\n",
    "- directly apply the eval and it will convert into corresponding data type\n",
    "- whenever you use eval, donot provide strings: it will give the error\n"
   ]
  },
  {
   "cell_type": "code",
   "execution_count": 74,
   "id": "335b57a3-6c0e-48bb-bd79-7122ca74711e",
   "metadata": {},
   "outputs": [
    {
     "name": "stdin",
     "output_type": "stream",
     "text": [
      "Enter the values1: 38\n",
      "enter the values2: 29.3339239\n"
     ]
    },
    {
     "data": {
      "text/plain": [
       "67"
      ]
     },
     "execution_count": 74,
     "metadata": {},
     "output_type": "execute_result"
    }
   ],
   "source": [
    "n1=eval(input(\"Enter the values1:\"))\n",
    "n2=eval(input(\"enter the values2:\"))\n",
    "n1+n2\n",
    "round(n1)+round(n2)"
   ]
  },
  {
   "cell_type": "code",
   "execution_count": 78,
   "id": "f609969b-36c9-4216-bf74-a8636184bf2f",
   "metadata": {},
   "outputs": [
    {
     "name": "stdin",
     "output_type": "stream",
     "text": [
      "Enter the numner1: 18\n",
      "enter the number2: 32.39\n",
      "enter the number3: 29.392\n"
     ]
    },
    {
     "name": "stdout",
     "output_type": "stream",
     "text": [
      "the average of three number are 18,32.39 and 29.392 is 27\n"
     ]
    }
   ],
   "source": [
    "#q1) Ask the user take the 3 number from the keyboard find the avg\n",
    "n1=eval(input(\"Enter the numner1:\"))\n",
    "n2=eval(input(\"enter the number2:\"))\n",
    "n3=eval(input(\"enter the number3:\"))\n",
    "n4=round((n1+n2+n3)/3)\n",
    "print(f'the average of three number are {n1},{n2} and {n3} is {n4}')"
   ]
  },
  {
   "cell_type": "code",
   "execution_count": 80,
   "id": "42e81bed-67cf-4586-81bd-01dcdf353105",
   "metadata": {},
   "outputs": [
    {
     "name": "stdin",
     "output_type": "stream",
     "text": [
      "enter the height : 6.8\n",
      "enter the breadth: 3\n"
     ]
    },
    {
     "name": "stdout",
     "output_type": "stream",
     "text": [
      "the area of a right angle triangle with height is 6.8 and breadth is 3 are 10 sq meters\n"
     ]
    }
   ],
   "source": [
    "#q2) Ask the user take height and breadth find the right angle triangle area\n",
    "height=eval(input(\"enter the height :\"))\n",
    "breadth = eval(input(\"enter the breadth:\"))\n",
    "area=round((height*breadth)/2)\n",
    "print(f\"the area of a right angle triangle with height is {height} and breadth is {breadth} are {area} sq meters\")"
   ]
  },
  {
   "cell_type": "code",
   "execution_count": 82,
   "id": "35c91255-965b-4084-8564-a0932bea857a",
   "metadata": {},
   "outputs": [
    {
     "name": "stdin",
     "output_type": "stream",
     "text": [
      "enter the length : 4\n",
      "enter the breadth: 5\n"
     ]
    },
    {
     "name": "stdout",
     "output_type": "stream",
     "text": [
      "the area of a rectangle with length is 4 and breadth is 5 are 20\n"
     ]
    }
   ],
   "source": [
    "#q3) ask the user enter length and breadth calculate area of rectangle\n",
    "length=l=eval(input(\"enter the length :\"))\n",
    "breadth=b=eval(input(\"enter the breadth:\"))\n",
    "area_of_rectangle=a=l*b\n",
    "print(f\"the area of a rectangle with length is {l} and breadth is {b} are {a}\")\n"
   ]
  },
  {
   "cell_type": "code",
   "execution_count": 84,
   "id": "f99cd6dd-b47c-4592-b83f-d946f1fca174",
   "metadata": {},
   "outputs": [
    {
     "name": "stdin",
     "output_type": "stream",
     "text": [
      "enter the radius: 4\n"
     ]
    },
    {
     "name": "stdout",
     "output_type": "stream",
     "text": [
      "the area of a circle with radius 4 is 50.24\n"
     ]
    }
   ],
   "source": [
    "#Q4) ask the user take the radius calcualte area of the circle\n",
    "radius=r=eval(input(\"enter the radius:\"))\n",
    "pi=p=3.14\n",
    "area_of_circle=a=p*r*r\n",
    "print(f\"the area of a circle with radius {r} is {a}\")"
   ]
  },
  {
   "cell_type": "code",
   "execution_count": 90,
   "id": "bb0e65a9-bbf9-4eec-a7dd-99ee6871eb2d",
   "metadata": {},
   "outputs": [
    {
     "name": "stdin",
     "output_type": "stream",
     "text": [
      "enter the bill amount:  1000\n",
      "enter the tips percentage 15\n"
     ]
    },
    {
     "name": "stdout",
     "output_type": "stream",
     "text": [
      "the total bill amount is 1150.0\n"
     ]
    }
   ],
   "source": [
    "#q5) ask the user ask the bill amount\n",
    "\n",
    "bill =eval(input(\"enter the bill amount: \")) \n",
    "tip_on_perc = eval(input(\"enter the tips percentage\"))\n",
    "tip_per_amt= (bill*tip_on_perc)/100\n",
    "total_bill = bill + tip_per_amt\n",
    "\n",
    "print(f\"the total bill amount is {total_bill}\")"
   ]
  },
  {
   "cell_type": "code",
   "execution_count": null,
   "id": "12e5d3cd-e30e-46e5-8ba2-f26f1f100ed5",
   "metadata": {},
   "outputs": [],
   "source": []
  }
 ],
 "metadata": {
  "kernelspec": {
   "display_name": "Python 3 (ipykernel)",
   "language": "python",
   "name": "python3"
  },
  "language_info": {
   "codemirror_mode": {
    "name": "ipython",
    "version": 3
   },
   "file_extension": ".py",
   "mimetype": "text/x-python",
   "name": "python",
   "nbconvert_exporter": "python",
   "pygments_lexer": "ipython3",
   "version": "3.12.4"
  }
 },
 "nbformat": 4,
 "nbformat_minor": 5
}
